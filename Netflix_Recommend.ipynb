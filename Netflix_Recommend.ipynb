{
  "nbformat": 4,
  "nbformat_minor": 0,
  "metadata": {
    "colab": {
      "name": "Netflix_Recommend.ipynb",
      "provenance": [],
      "collapsed_sections": [],
      "machine_shape": "hm"
    },
    "kernelspec": {
      "name": "python3",
      "display_name": "Python 3"
    },
    "accelerator": "GPU"
  },
  "cells": [
    {
      "cell_type": "code",
      "metadata": {
        "id": "Ba6Q7gR3Uh_o",
        "colab_type": "code",
        "outputId": "d538a51d-d742-4a5c-8070-cb4ae5a4af4f",
        "colab": {
          "base_uri": "https://localhost:8080/",
          "height": 34
        }
      },
      "source": [
        "from google.colab import drive\n",
        "drive.mount('/content/gdrive') "
      ],
      "execution_count": 0,
      "outputs": [
        {
          "output_type": "stream",
          "text": [
            "Drive already mounted at /content/gdrive; to attempt to forcibly remount, call drive.mount(\"/content/gdrive\", force_remount=True).\n"
          ],
          "name": "stdout"
        }
      ]
    },
    {
      "cell_type": "code",
      "metadata": {
        "id": "a4JuLDECcz7i",
        "colab_type": "code",
        "colab": {}
      },
      "source": [
        "import pandas as pd"
      ],
      "execution_count": 0,
      "outputs": []
    },
    {
      "cell_type": "code",
      "metadata": {
        "id": "HOhVBPQHf2jC",
        "colab_type": "code",
        "colab": {}
      },
      "source": [
        "s=df.isnull().any()"
      ],
      "execution_count": 0,
      "outputs": []
    },
    {
      "cell_type": "code",
      "metadata": {
        "id": "NSAYnzgZgP0x",
        "colab_type": "code",
        "outputId": "e0f9ce9d-495c-4a0a-e625-115d7bb44745",
        "colab": {
          "base_uri": "https://localhost:8080/",
          "height": 85
        }
      },
      "source": [
        "print(s)\n",
        "df1=df[df['Rating'].isnull()==True]"
      ],
      "execution_count": 0,
      "outputs": [
        {
          "output_type": "stream",
          "text": [
            "Cust_Id    False\n",
            "Rating      True\n",
            "Date        True\n",
            "dtype: bool\n"
          ],
          "name": "stdout"
        }
      ]
    },
    {
      "cell_type": "code",
      "metadata": {
        "id": "uxJoBmjUUgPp",
        "colab_type": "code",
        "outputId": "f561737c-609d-4065-eabc-10b3f05e2a82",
        "colab": {
          "base_uri": "https://localhost:8080/",
          "height": 34
        }
      },
      "source": [
        "df1.shape"
      ],
      "execution_count": 0,
      "outputs": [
        {
          "output_type": "execute_result",
          "data": {
            "text/plain": [
              "(4499, 3)"
            ]
          },
          "metadata": {
            "tags": []
          },
          "execution_count": 55
        }
      ]
    },
    {
      "cell_type": "code",
      "metadata": {
        "id": "583j4bTGoS8O",
        "colab_type": "code",
        "colab": {}
      },
      "source": [
        "def preprocess(path):\n",
        "  df=pd.read_csv(path,header=None,names = ['Cust_Id', 'Rating','Date'])\n",
        "  ls=[]\n",
        "  df1=df[df['Rating'].isnull()==True]\n",
        "  cols=list(df1.index)\n",
        "  m_id=list(df1['Cust_Id'].values)\n",
        "  for i in range(len(cols)-1):\n",
        "    c=m_id[i].strip(':')\n",
        "    c=int(c)\n",
        "    temp=[c]*(cols[i+1]-cols[i])\n",
        "    ls.extend(temp)\n",
        "  c=m_id[len(cols)-1].strip(':')\n",
        "  c=int(c)\n",
        "  temp=[c]*(df.shape[0]-cols[len(cols)-1])\n",
        "  ls.extend(temp)\n",
        "  df['movie_id']=ls\n",
        "  df_final=df.drop(cols,axis=0)\n",
        "  return df_final"
      ],
      "execution_count": 0,
      "outputs": []
    },
    {
      "cell_type": "code",
      "metadata": {
        "id": "FjeE61tl9xkv",
        "colab_type": "code",
        "colab": {}
      },
      "source": [
        "df_1=preprocess('/content/gdrive/My Drive/Reccommendation System/combined_data_1.txt.zip')\n"
      ],
      "execution_count": 0,
      "outputs": []
    },
    {
      "cell_type": "code",
      "metadata": {
        "id": "Lb6GcLQm-vzI",
        "colab_type": "code",
        "outputId": "9566bcae-a302-485d-ca1d-3efb4d63a62a",
        "colab": {
          "base_uri": "https://localhost:8080/",
          "height": 204
        }
      },
      "source": [
        "df_1.head()"
      ],
      "execution_count": 0,
      "outputs": [
        {
          "output_type": "execute_result",
          "data": {
            "text/html": [
              "<div>\n",
              "<style scoped>\n",
              "    .dataframe tbody tr th:only-of-type {\n",
              "        vertical-align: middle;\n",
              "    }\n",
              "\n",
              "    .dataframe tbody tr th {\n",
              "        vertical-align: top;\n",
              "    }\n",
              "\n",
              "    .dataframe thead th {\n",
              "        text-align: right;\n",
              "    }\n",
              "</style>\n",
              "<table border=\"1\" class=\"dataframe\">\n",
              "  <thead>\n",
              "    <tr style=\"text-align: right;\">\n",
              "      <th></th>\n",
              "      <th>Cust_Id</th>\n",
              "      <th>Rating</th>\n",
              "      <th>Date</th>\n",
              "      <th>movie_id</th>\n",
              "    </tr>\n",
              "  </thead>\n",
              "  <tbody>\n",
              "    <tr>\n",
              "      <th>1</th>\n",
              "      <td>1488844</td>\n",
              "      <td>3.0</td>\n",
              "      <td>2005-09-06</td>\n",
              "      <td>1</td>\n",
              "    </tr>\n",
              "    <tr>\n",
              "      <th>2</th>\n",
              "      <td>822109</td>\n",
              "      <td>5.0</td>\n",
              "      <td>2005-05-13</td>\n",
              "      <td>1</td>\n",
              "    </tr>\n",
              "    <tr>\n",
              "      <th>3</th>\n",
              "      <td>885013</td>\n",
              "      <td>4.0</td>\n",
              "      <td>2005-10-19</td>\n",
              "      <td>1</td>\n",
              "    </tr>\n",
              "    <tr>\n",
              "      <th>4</th>\n",
              "      <td>30878</td>\n",
              "      <td>4.0</td>\n",
              "      <td>2005-12-26</td>\n",
              "      <td>1</td>\n",
              "    </tr>\n",
              "    <tr>\n",
              "      <th>5</th>\n",
              "      <td>823519</td>\n",
              "      <td>3.0</td>\n",
              "      <td>2004-05-03</td>\n",
              "      <td>1</td>\n",
              "    </tr>\n",
              "  </tbody>\n",
              "</table>\n",
              "</div>"
            ],
            "text/plain": [
              "   Cust_Id  Rating        Date  movie_id\n",
              "1  1488844     3.0  2005-09-06         1\n",
              "2   822109     5.0  2005-05-13         1\n",
              "3   885013     4.0  2005-10-19         1\n",
              "4    30878     4.0  2005-12-26         1\n",
              "5   823519     3.0  2004-05-03         1"
            ]
          },
          "metadata": {
            "tags": []
          },
          "execution_count": 6
        }
      ]
    },
    {
      "cell_type": "code",
      "metadata": {
        "id": "HKqDot5drVMf",
        "colab_type": "code",
        "colab": {}
      },
      "source": [
        "df_2=preprocess('/content/gdrive/My Drive/Reccommendation System/combined_data_2.txt.zip')"
      ],
      "execution_count": 0,
      "outputs": []
    },
    {
      "cell_type": "code",
      "metadata": {
        "id": "U0O6fK4DvomH",
        "colab_type": "code",
        "outputId": "a1a7bb4a-82ce-401e-c051-8d28611bfcc1",
        "colab": {
          "base_uri": "https://localhost:8080/",
          "height": 204
        }
      },
      "source": [
        "df_2.head()"
      ],
      "execution_count": 0,
      "outputs": [
        {
          "output_type": "execute_result",
          "data": {
            "text/html": [
              "<div>\n",
              "<style scoped>\n",
              "    .dataframe tbody tr th:only-of-type {\n",
              "        vertical-align: middle;\n",
              "    }\n",
              "\n",
              "    .dataframe tbody tr th {\n",
              "        vertical-align: top;\n",
              "    }\n",
              "\n",
              "    .dataframe thead th {\n",
              "        text-align: right;\n",
              "    }\n",
              "</style>\n",
              "<table border=\"1\" class=\"dataframe\">\n",
              "  <thead>\n",
              "    <tr style=\"text-align: right;\">\n",
              "      <th></th>\n",
              "      <th>Cust_Id</th>\n",
              "      <th>Rating</th>\n",
              "      <th>Date</th>\n",
              "      <th>movie_id</th>\n",
              "    </tr>\n",
              "  </thead>\n",
              "  <tbody>\n",
              "    <tr>\n",
              "      <th>1</th>\n",
              "      <td>2532865</td>\n",
              "      <td>4.0</td>\n",
              "      <td>2005-07-26</td>\n",
              "      <td>4500</td>\n",
              "    </tr>\n",
              "    <tr>\n",
              "      <th>2</th>\n",
              "      <td>573364</td>\n",
              "      <td>3.0</td>\n",
              "      <td>2005-06-20</td>\n",
              "      <td>4500</td>\n",
              "    </tr>\n",
              "    <tr>\n",
              "      <th>3</th>\n",
              "      <td>1696725</td>\n",
              "      <td>3.0</td>\n",
              "      <td>2004-02-27</td>\n",
              "      <td>4500</td>\n",
              "    </tr>\n",
              "    <tr>\n",
              "      <th>4</th>\n",
              "      <td>1253431</td>\n",
              "      <td>3.0</td>\n",
              "      <td>2004-03-31</td>\n",
              "      <td>4500</td>\n",
              "    </tr>\n",
              "    <tr>\n",
              "      <th>5</th>\n",
              "      <td>1265574</td>\n",
              "      <td>2.0</td>\n",
              "      <td>2003-09-01</td>\n",
              "      <td>4500</td>\n",
              "    </tr>\n",
              "  </tbody>\n",
              "</table>\n",
              "</div>"
            ],
            "text/plain": [
              "   Cust_Id  Rating        Date  movie_id\n",
              "1  2532865     4.0  2005-07-26      4500\n",
              "2   573364     3.0  2005-06-20      4500\n",
              "3  1696725     3.0  2004-02-27      4500\n",
              "4  1253431     3.0  2004-03-31      4500\n",
              "5  1265574     2.0  2003-09-01      4500"
            ]
          },
          "metadata": {
            "tags": []
          },
          "execution_count": 8
        }
      ]
    },
    {
      "cell_type": "code",
      "metadata": {
        "id": "UP-9xTGAYzbK",
        "colab_type": "code",
        "colab": {}
      },
      "source": [
        "df_3=preprocess('/content/gdrive/My Drive/Reccommendation System/combined_data_3.txt.zip')"
      ],
      "execution_count": 0,
      "outputs": []
    },
    {
      "cell_type": "code",
      "metadata": {
        "id": "XCDi85A3Z5I6",
        "colab_type": "code",
        "outputId": "1a70ffc4-2f2b-4679-a875-8aafe98342a2",
        "colab": {
          "base_uri": "https://localhost:8080/",
          "height": 204
        }
      },
      "source": [
        "df_3.head()"
      ],
      "execution_count": 0,
      "outputs": [
        {
          "output_type": "execute_result",
          "data": {
            "text/html": [
              "<div>\n",
              "<style scoped>\n",
              "    .dataframe tbody tr th:only-of-type {\n",
              "        vertical-align: middle;\n",
              "    }\n",
              "\n",
              "    .dataframe tbody tr th {\n",
              "        vertical-align: top;\n",
              "    }\n",
              "\n",
              "    .dataframe thead th {\n",
              "        text-align: right;\n",
              "    }\n",
              "</style>\n",
              "<table border=\"1\" class=\"dataframe\">\n",
              "  <thead>\n",
              "    <tr style=\"text-align: right;\">\n",
              "      <th></th>\n",
              "      <th>Cust_Id</th>\n",
              "      <th>Rating</th>\n",
              "      <th>Date</th>\n",
              "      <th>movie_id</th>\n",
              "    </tr>\n",
              "  </thead>\n",
              "  <tbody>\n",
              "    <tr>\n",
              "      <th>1</th>\n",
              "      <td>1277134</td>\n",
              "      <td>1.0</td>\n",
              "      <td>2003-12-02</td>\n",
              "      <td>9211</td>\n",
              "    </tr>\n",
              "    <tr>\n",
              "      <th>2</th>\n",
              "      <td>2435457</td>\n",
              "      <td>2.0</td>\n",
              "      <td>2005-06-01</td>\n",
              "      <td>9211</td>\n",
              "    </tr>\n",
              "    <tr>\n",
              "      <th>3</th>\n",
              "      <td>2338545</td>\n",
              "      <td>3.0</td>\n",
              "      <td>2001-02-17</td>\n",
              "      <td>9211</td>\n",
              "    </tr>\n",
              "    <tr>\n",
              "      <th>4</th>\n",
              "      <td>2218269</td>\n",
              "      <td>1.0</td>\n",
              "      <td>2002-12-27</td>\n",
              "      <td>9211</td>\n",
              "    </tr>\n",
              "    <tr>\n",
              "      <th>5</th>\n",
              "      <td>441153</td>\n",
              "      <td>4.0</td>\n",
              "      <td>2002-10-11</td>\n",
              "      <td>9211</td>\n",
              "    </tr>\n",
              "  </tbody>\n",
              "</table>\n",
              "</div>"
            ],
            "text/plain": [
              "   Cust_Id  Rating        Date  movie_id\n",
              "1  1277134     1.0  2003-12-02      9211\n",
              "2  2435457     2.0  2005-06-01      9211\n",
              "3  2338545     3.0  2001-02-17      9211\n",
              "4  2218269     1.0  2002-12-27      9211\n",
              "5   441153     4.0  2002-10-11      9211"
            ]
          },
          "metadata": {
            "tags": []
          },
          "execution_count": 10
        }
      ]
    },
    {
      "cell_type": "code",
      "metadata": {
        "id": "fPJdYPhJv3ob",
        "colab_type": "code",
        "colab": {}
      },
      "source": [
        "df_4=preprocess('/content/gdrive/My Drive/Reccommendation System/combined_data_4.txt.zip')"
      ],
      "execution_count": 0,
      "outputs": []
    },
    {
      "cell_type": "code",
      "metadata": {
        "id": "rQqfLFOHBsbc",
        "colab_type": "code",
        "outputId": "f3e0b88d-6c07-4989-eb52-2927d9af7d46",
        "colab": {
          "base_uri": "https://localhost:8080/",
          "height": 204
        }
      },
      "source": [
        "df_4.head()"
      ],
      "execution_count": 0,
      "outputs": [
        {
          "output_type": "execute_result",
          "data": {
            "text/html": [
              "<div>\n",
              "<style scoped>\n",
              "    .dataframe tbody tr th:only-of-type {\n",
              "        vertical-align: middle;\n",
              "    }\n",
              "\n",
              "    .dataframe tbody tr th {\n",
              "        vertical-align: top;\n",
              "    }\n",
              "\n",
              "    .dataframe thead th {\n",
              "        text-align: right;\n",
              "    }\n",
              "</style>\n",
              "<table border=\"1\" class=\"dataframe\">\n",
              "  <thead>\n",
              "    <tr style=\"text-align: right;\">\n",
              "      <th></th>\n",
              "      <th>Cust_Id</th>\n",
              "      <th>Rating</th>\n",
              "      <th>Date</th>\n",
              "      <th>movie_id</th>\n",
              "    </tr>\n",
              "  </thead>\n",
              "  <tbody>\n",
              "    <tr>\n",
              "      <th>1</th>\n",
              "      <td>2385003</td>\n",
              "      <td>4.0</td>\n",
              "      <td>2004-07-08</td>\n",
              "      <td>13368</td>\n",
              "    </tr>\n",
              "    <tr>\n",
              "      <th>2</th>\n",
              "      <td>659432</td>\n",
              "      <td>3.0</td>\n",
              "      <td>2005-03-16</td>\n",
              "      <td>13368</td>\n",
              "    </tr>\n",
              "    <tr>\n",
              "      <th>3</th>\n",
              "      <td>751812</td>\n",
              "      <td>2.0</td>\n",
              "      <td>2002-12-16</td>\n",
              "      <td>13368</td>\n",
              "    </tr>\n",
              "    <tr>\n",
              "      <th>4</th>\n",
              "      <td>2625420</td>\n",
              "      <td>2.0</td>\n",
              "      <td>2004-05-25</td>\n",
              "      <td>13368</td>\n",
              "    </tr>\n",
              "    <tr>\n",
              "      <th>5</th>\n",
              "      <td>1650301</td>\n",
              "      <td>1.0</td>\n",
              "      <td>2005-08-30</td>\n",
              "      <td>13368</td>\n",
              "    </tr>\n",
              "  </tbody>\n",
              "</table>\n",
              "</div>"
            ],
            "text/plain": [
              "   Cust_Id  Rating        Date  movie_id\n",
              "1  2385003     4.0  2004-07-08     13368\n",
              "2   659432     3.0  2005-03-16     13368\n",
              "3   751812     2.0  2002-12-16     13368\n",
              "4  2625420     2.0  2004-05-25     13368\n",
              "5  1650301     1.0  2005-08-30     13368"
            ]
          },
          "metadata": {
            "tags": []
          },
          "execution_count": 12
        }
      ]
    },
    {
      "cell_type": "code",
      "metadata": {
        "id": "J9XgbgQkCH4S",
        "colab_type": "code",
        "outputId": "ee9fabca-40cb-4b11-da99-8525c063e828",
        "colab": {
          "base_uri": "https://localhost:8080/",
          "height": 34
        }
      },
      "source": [
        "print(df_1.shape,df_2.shape,df_3.shape,df_4.shape)"
      ],
      "execution_count": 0,
      "outputs": [
        {
          "output_type": "stream",
          "text": [
            "(24053764, 4) (26977591, 4) (22601629, 4) (26847523, 4)\n"
          ],
          "name": "stdout"
        }
      ]
    },
    {
      "cell_type": "code",
      "metadata": {
        "id": "LrYSeKq2C0VJ",
        "colab_type": "code",
        "colab": {}
      },
      "source": [
        "d=df_1.sort_values(by=['Date'])"
      ],
      "execution_count": 0,
      "outputs": []
    },
    {
      "cell_type": "code",
      "metadata": {
        "id": "YLWL7PzoS7oq",
        "colab_type": "code",
        "outputId": "50042642-6ec0-470c-95ba-9e5f6abb2aa6",
        "colab": {
          "base_uri": "https://localhost:8080/",
          "height": 979
        }
      },
      "source": [
        "d.head(30)"
      ],
      "execution_count": 0,
      "outputs": [
        {
          "output_type": "execute_result",
          "data": {
            "text/html": [
              "<div>\n",
              "<style scoped>\n",
              "    .dataframe tbody tr th:only-of-type {\n",
              "        vertical-align: middle;\n",
              "    }\n",
              "\n",
              "    .dataframe tbody tr th {\n",
              "        vertical-align: top;\n",
              "    }\n",
              "\n",
              "    .dataframe thead th {\n",
              "        text-align: right;\n",
              "    }\n",
              "</style>\n",
              "<table border=\"1\" class=\"dataframe\">\n",
              "  <thead>\n",
              "    <tr style=\"text-align: right;\">\n",
              "      <th></th>\n",
              "      <th>Cust_Id</th>\n",
              "      <th>Rating</th>\n",
              "      <th>Date</th>\n",
              "      <th>movie_id</th>\n",
              "    </tr>\n",
              "  </thead>\n",
              "  <tbody>\n",
              "    <tr>\n",
              "      <th>9057969</th>\n",
              "      <td>510180</td>\n",
              "      <td>5.0</td>\n",
              "      <td>1999-11-11</td>\n",
              "      <td>1798</td>\n",
              "    </tr>\n",
              "    <tr>\n",
              "      <th>14895543</th>\n",
              "      <td>510180</td>\n",
              "      <td>3.0</td>\n",
              "      <td>1999-11-11</td>\n",
              "      <td>2866</td>\n",
              "    </tr>\n",
              "    <tr>\n",
              "      <th>19589582</th>\n",
              "      <td>510180</td>\n",
              "      <td>4.0</td>\n",
              "      <td>1999-11-11</td>\n",
              "      <td>3730</td>\n",
              "    </tr>\n",
              "    <tr>\n",
              "      <th>20397788</th>\n",
              "      <td>510180</td>\n",
              "      <td>2.0</td>\n",
              "      <td>1999-11-11</td>\n",
              "      <td>3870</td>\n",
              "    </tr>\n",
              "    <tr>\n",
              "      <th>6902840</th>\n",
              "      <td>510180</td>\n",
              "      <td>5.0</td>\n",
              "      <td>1999-11-11</td>\n",
              "      <td>1367</td>\n",
              "    </tr>\n",
              "    <tr>\n",
              "      <th>15347487</th>\n",
              "      <td>510180</td>\n",
              "      <td>3.0</td>\n",
              "      <td>1999-12-06</td>\n",
              "      <td>2948</td>\n",
              "    </tr>\n",
              "    <tr>\n",
              "      <th>17856999</th>\n",
              "      <td>510180</td>\n",
              "      <td>3.0</td>\n",
              "      <td>1999-12-06</td>\n",
              "      <td>3421</td>\n",
              "    </tr>\n",
              "    <tr>\n",
              "      <th>13153317</th>\n",
              "      <td>510180</td>\n",
              "      <td>3.0</td>\n",
              "      <td>1999-12-06</td>\n",
              "      <td>2478</td>\n",
              "    </tr>\n",
              "    <tr>\n",
              "      <th>8031305</th>\n",
              "      <td>122223</td>\n",
              "      <td>3.0</td>\n",
              "      <td>1999-12-08</td>\n",
              "      <td>1615</td>\n",
              "    </tr>\n",
              "    <tr>\n",
              "      <th>14347045</th>\n",
              "      <td>122223</td>\n",
              "      <td>3.0</td>\n",
              "      <td>1999-12-08</td>\n",
              "      <td>2780</td>\n",
              "    </tr>\n",
              "    <tr>\n",
              "      <th>6886297</th>\n",
              "      <td>122223</td>\n",
              "      <td>3.0</td>\n",
              "      <td>1999-12-08</td>\n",
              "      <td>1367</td>\n",
              "    </tr>\n",
              "    <tr>\n",
              "      <th>3235221</th>\n",
              "      <td>122223</td>\n",
              "      <td>4.0</td>\n",
              "      <td>1999-12-08</td>\n",
              "      <td>607</td>\n",
              "    </tr>\n",
              "    <tr>\n",
              "      <th>6124347</th>\n",
              "      <td>122223</td>\n",
              "      <td>4.0</td>\n",
              "      <td>1999-12-08</td>\n",
              "      <td>1202</td>\n",
              "    </tr>\n",
              "    <tr>\n",
              "      <th>20495135</th>\n",
              "      <td>122223</td>\n",
              "      <td>3.0</td>\n",
              "      <td>1999-12-08</td>\n",
              "      <td>3893</td>\n",
              "    </tr>\n",
              "    <tr>\n",
              "      <th>22137024</th>\n",
              "      <td>122223</td>\n",
              "      <td>3.0</td>\n",
              "      <td>1999-12-08</td>\n",
              "      <td>4171</td>\n",
              "    </tr>\n",
              "    <tr>\n",
              "      <th>20391312</th>\n",
              "      <td>204439</td>\n",
              "      <td>5.0</td>\n",
              "      <td>1999-12-09</td>\n",
              "      <td>3870</td>\n",
              "    </tr>\n",
              "    <tr>\n",
              "      <th>22286027</th>\n",
              "      <td>1972971</td>\n",
              "      <td>4.0</td>\n",
              "      <td>1999-12-09</td>\n",
              "      <td>4227</td>\n",
              "    </tr>\n",
              "    <tr>\n",
              "      <th>8882124</th>\n",
              "      <td>204439</td>\n",
              "      <td>4.0</td>\n",
              "      <td>1999-12-09</td>\n",
              "      <td>1770</td>\n",
              "    </tr>\n",
              "    <tr>\n",
              "      <th>6884528</th>\n",
              "      <td>204439</td>\n",
              "      <td>4.0</td>\n",
              "      <td>1999-12-09</td>\n",
              "      <td>1367</td>\n",
              "    </tr>\n",
              "    <tr>\n",
              "      <th>6753535</th>\n",
              "      <td>204439</td>\n",
              "      <td>3.0</td>\n",
              "      <td>1999-12-09</td>\n",
              "      <td>1309</td>\n",
              "    </tr>\n",
              "    <tr>\n",
              "      <th>18454227</th>\n",
              "      <td>204439</td>\n",
              "      <td>3.0</td>\n",
              "      <td>1999-12-09</td>\n",
              "      <td>3535</td>\n",
              "    </tr>\n",
              "    <tr>\n",
              "      <th>16178629</th>\n",
              "      <td>1972971</td>\n",
              "      <td>3.0</td>\n",
              "      <td>1999-12-09</td>\n",
              "      <td>3148</td>\n",
              "    </tr>\n",
              "    <tr>\n",
              "      <th>14345691</th>\n",
              "      <td>204439</td>\n",
              "      <td>1.0</td>\n",
              "      <td>1999-12-09</td>\n",
              "      <td>2780</td>\n",
              "    </tr>\n",
              "    <tr>\n",
              "      <th>1860034</th>\n",
              "      <td>204439</td>\n",
              "      <td>3.0</td>\n",
              "      <td>1999-12-09</td>\n",
              "      <td>344</td>\n",
              "    </tr>\n",
              "    <tr>\n",
              "      <th>15081044</th>\n",
              "      <td>204439</td>\n",
              "      <td>4.0</td>\n",
              "      <td>1999-12-09</td>\n",
              "      <td>2902</td>\n",
              "    </tr>\n",
              "    <tr>\n",
              "      <th>16177835</th>\n",
              "      <td>204439</td>\n",
              "      <td>5.0</td>\n",
              "      <td>1999-12-09</td>\n",
              "      <td>3148</td>\n",
              "    </tr>\n",
              "    <tr>\n",
              "      <th>11400821</th>\n",
              "      <td>1972971</td>\n",
              "      <td>2.0</td>\n",
              "      <td>1999-12-09</td>\n",
              "      <td>2178</td>\n",
              "    </tr>\n",
              "    <tr>\n",
              "      <th>254777</th>\n",
              "      <td>1972971</td>\n",
              "      <td>1.0</td>\n",
              "      <td>1999-12-09</td>\n",
              "      <td>55</td>\n",
              "    </tr>\n",
              "    <tr>\n",
              "      <th>11757117</th>\n",
              "      <td>204439</td>\n",
              "      <td>3.0</td>\n",
              "      <td>1999-12-09</td>\n",
              "      <td>2252</td>\n",
              "    </tr>\n",
              "    <tr>\n",
              "      <th>22595276</th>\n",
              "      <td>204439</td>\n",
              "      <td>3.0</td>\n",
              "      <td>1999-12-09</td>\n",
              "      <td>4271</td>\n",
              "    </tr>\n",
              "  </tbody>\n",
              "</table>\n",
              "</div>"
            ],
            "text/plain": [
              "          Cust_Id  Rating        Date  movie_id\n",
              "9057969    510180     5.0  1999-11-11      1798\n",
              "14895543   510180     3.0  1999-11-11      2866\n",
              "19589582   510180     4.0  1999-11-11      3730\n",
              "20397788   510180     2.0  1999-11-11      3870\n",
              "6902840    510180     5.0  1999-11-11      1367\n",
              "15347487   510180     3.0  1999-12-06      2948\n",
              "17856999   510180     3.0  1999-12-06      3421\n",
              "13153317   510180     3.0  1999-12-06      2478\n",
              "8031305    122223     3.0  1999-12-08      1615\n",
              "14347045   122223     3.0  1999-12-08      2780\n",
              "6886297    122223     3.0  1999-12-08      1367\n",
              "3235221    122223     4.0  1999-12-08       607\n",
              "6124347    122223     4.0  1999-12-08      1202\n",
              "20495135   122223     3.0  1999-12-08      3893\n",
              "22137024   122223     3.0  1999-12-08      4171\n",
              "20391312   204439     5.0  1999-12-09      3870\n",
              "22286027  1972971     4.0  1999-12-09      4227\n",
              "8882124    204439     4.0  1999-12-09      1770\n",
              "6884528    204439     4.0  1999-12-09      1367\n",
              "6753535    204439     3.0  1999-12-09      1309\n",
              "18454227   204439     3.0  1999-12-09      3535\n",
              "16178629  1972971     3.0  1999-12-09      3148\n",
              "14345691   204439     1.0  1999-12-09      2780\n",
              "1860034    204439     3.0  1999-12-09       344\n",
              "15081044   204439     4.0  1999-12-09      2902\n",
              "16177835   204439     5.0  1999-12-09      3148\n",
              "11400821  1972971     2.0  1999-12-09      2178\n",
              "254777    1972971     1.0  1999-12-09        55\n",
              "11757117   204439     3.0  1999-12-09      2252\n",
              "22595276   204439     3.0  1999-12-09      4271"
            ]
          },
          "metadata": {
            "tags": []
          },
          "execution_count": 14
        }
      ]
    },
    {
      "cell_type": "code",
      "metadata": {
        "id": "l8uPtBOiaHLc",
        "colab_type": "code",
        "colab": {}
      },
      "source": [
        "l2=list(((df_final['Rating'].value_counts().values)/df_final.shape[0])*100)"
      ],
      "execution_count": 0,
      "outputs": []
    },
    {
      "cell_type": "code",
      "metadata": {
        "id": "5vLFz7NuTlhb",
        "colab_type": "code",
        "colab": {}
      },
      "source": [
        "l=list(d['Date'].values)"
      ],
      "execution_count": 0,
      "outputs": []
    },
    {
      "cell_type": "code",
      "metadata": {
        "id": "x8MdvEm1T5-K",
        "colab_type": "code",
        "colab": {}
      },
      "source": [
        "g=[x[:4] for x in l]"
      ],
      "execution_count": 0,
      "outputs": []
    },
    {
      "cell_type": "code",
      "metadata": {
        "id": "VUunFf9NU6FY",
        "colab_type": "code",
        "outputId": "dd8f3c7c-4b9a-43d5-ab19-0fcf9a195a14",
        "colab": {
          "base_uri": "https://localhost:8080/",
          "height": 34
        }
      },
      "source": [
        "print(g[:4])\n",
        "from collections import Counter\n",
        "dct=Counter(g)"
      ],
      "execution_count": 0,
      "outputs": [
        {
          "output_type": "stream",
          "text": [
            "['1999', '1999', '1999', '1999']\n"
          ],
          "name": "stdout"
        }
      ]
    },
    {
      "cell_type": "code",
      "metadata": {
        "id": "0wBdfGZyVFg9",
        "colab_type": "code",
        "outputId": "7ecd6fa4-1fa1-4422-97b2-60c32702e235",
        "colab": {
          "base_uri": "https://localhost:8080/",
          "height": 34
        }
      },
      "source": [
        "dct['2001']"
      ],
      "execution_count": 0,
      "outputs": [
        {
          "output_type": "execute_result",
          "data": {
            "text/plain": [
              "370691"
            ]
          },
          "metadata": {
            "tags": []
          },
          "execution_count": 33
        }
      ]
    },
    {
      "cell_type": "code",
      "metadata": {
        "id": "kxIUcSukUX-6",
        "colab_type": "code",
        "outputId": "d21b3d4a-7afe-4f99-c646-2b1634f57d6c",
        "colab": {
          "base_uri": "https://localhost:8080/",
          "height": 54
        }
      },
      "source": [
        "print(templist)"
      ],
      "execution_count": 0,
      "outputs": [
        {
          "output_type": "stream",
          "text": [
            "['1999-11-11', '1999-11-11', '1999-11-11', '1999-11-11', '1999-11-11', '1999-12-06', '1999-12-06', '1999-12-06', '1999-12-08', '1999-12-08']\n"
          ],
          "name": "stdout"
        }
      ]
    },
    {
      "cell_type": "code",
      "metadata": {
        "id": "D_oiSLm_aTSn",
        "colab_type": "code",
        "colab": {}
      },
      "source": [
        "l1=list(df_final['Rating'].value_counts().index)"
      ],
      "execution_count": 0,
      "outputs": []
    },
    {
      "cell_type": "code",
      "metadata": {
        "id": "wwTH9k4-bmRw",
        "colab_type": "code",
        "outputId": "72b95796-d190-47d8-b900-813c3db5e8f2",
        "colab": {
          "base_uri": "https://localhost:8080/",
          "height": 34
        }
      },
      "source": [
        "d=dict(zip(l1,l2))\n",
        "df_final['Rating'].value_counts()\n",
        "print(l1,l2)"
      ],
      "execution_count": 0,
      "outputs": [
        {
          "output_type": "stream",
          "text": [
            "[4.0, 3.0, 5.0, 2.0, 1.0] [33.615283662049734, 28.70312105830921, 22.892812118718716, 10.140088678013138, 4.648694482909202]\n"
          ],
          "name": "stdout"
        }
      ]
    },
    {
      "cell_type": "code",
      "metadata": {
        "id": "Wt7sqC-ybyy4",
        "colab_type": "code",
        "outputId": "b72faa24-6d4b-4ccd-8950-009a534007af",
        "colab": {
          "base_uri": "https://localhost:8080/",
          "height": 34
        }
      },
      "source": [
        "d[4]"
      ],
      "execution_count": 0,
      "outputs": [
        {
          "output_type": "execute_result",
          "data": {
            "text/plain": [
              "33.615283662049734"
            ]
          },
          "metadata": {
            "tags": []
          },
          "execution_count": 43
        }
      ]
    },
    {
      "cell_type": "code",
      "metadata": {
        "id": "EPVy020wbfLn",
        "colab_type": "code",
        "colab": {}
      },
      "source": [
        "movie_names=pd.read_csv('/content/gdrive/My Drive/Reccommendation System/movie_titles.csv',header=None,usecols=[0,1,2,3])"
      ],
      "execution_count": 0,
      "outputs": []
    },
    {
      "cell_type": "code",
      "metadata": {
        "id": "DcMnE7qKq8nF",
        "colab_type": "code",
        "outputId": "3131dd44-ca22-4a2e-f0f2-fd0d421db7ef",
        "colab": {
          "base_uri": "https://localhost:8080/",
          "height": 204
        }
      },
      "source": [
        "movie_names.head()"
      ],
      "execution_count": 0,
      "outputs": [
        {
          "output_type": "execute_result",
          "data": {
            "text/html": [
              "<div>\n",
              "<style scoped>\n",
              "    .dataframe tbody tr th:only-of-type {\n",
              "        vertical-align: middle;\n",
              "    }\n",
              "\n",
              "    .dataframe tbody tr th {\n",
              "        vertical-align: top;\n",
              "    }\n",
              "\n",
              "    .dataframe thead th {\n",
              "        text-align: right;\n",
              "    }\n",
              "</style>\n",
              "<table border=\"1\" class=\"dataframe\">\n",
              "  <thead>\n",
              "    <tr style=\"text-align: right;\">\n",
              "      <th></th>\n",
              "      <th>0</th>\n",
              "      <th>1</th>\n",
              "      <th>2</th>\n",
              "      <th>3</th>\n",
              "    </tr>\n",
              "  </thead>\n",
              "  <tbody>\n",
              "    <tr>\n",
              "      <th>0</th>\n",
              "      <td>1</td>\n",
              "      <td>2003.0</td>\n",
              "      <td>Dinosaur Planet</td>\n",
              "      <td>1</td>\n",
              "    </tr>\n",
              "    <tr>\n",
              "      <th>1</th>\n",
              "      <td>2</td>\n",
              "      <td>2004.0</td>\n",
              "      <td>Isle of Man TT 2004 Review</td>\n",
              "      <td>NaN</td>\n",
              "    </tr>\n",
              "    <tr>\n",
              "      <th>2</th>\n",
              "      <td>3</td>\n",
              "      <td>1997.0</td>\n",
              "      <td>Character</td>\n",
              "      <td>NaN</td>\n",
              "    </tr>\n",
              "    <tr>\n",
              "      <th>3</th>\n",
              "      <td>4</td>\n",
              "      <td>1994.0</td>\n",
              "      <td>Paula Abdul's Get Up &amp; Dance</td>\n",
              "      <td>NaN</td>\n",
              "    </tr>\n",
              "    <tr>\n",
              "      <th>4</th>\n",
              "      <td>5</td>\n",
              "      <td>2004.0</td>\n",
              "      <td>The Rise and Fall of ECW</td>\n",
              "      <td>NaN</td>\n",
              "    </tr>\n",
              "  </tbody>\n",
              "</table>\n",
              "</div>"
            ],
            "text/plain": [
              "   0       1                             2    3\n",
              "0  1  2003.0               Dinosaur Planet    1\n",
              "1  2  2004.0    Isle of Man TT 2004 Review  NaN\n",
              "2  3  1997.0                     Character  NaN\n",
              "3  4  1994.0  Paula Abdul's Get Up & Dance  NaN\n",
              "4  5  2004.0      The Rise and Fall of ECW  NaN"
            ]
          },
          "metadata": {
            "tags": []
          },
          "execution_count": 52
        }
      ]
    },
    {
      "cell_type": "code",
      "metadata": {
        "id": "0jR4Ys2btQEb",
        "colab_type": "code",
        "colab": {}
      },
      "source": [
        "not_rows=movie_names[3][movie_names[3].isnull()==False]"
      ],
      "execution_count": 0,
      "outputs": []
    },
    {
      "cell_type": "code",
      "metadata": {
        "id": "8c5Po_C8uId9",
        "colab_type": "code",
        "colab": {}
      },
      "source": [
        "l=list(not_rows.index)"
      ],
      "execution_count": 0,
      "outputs": []
    },
    {
      "cell_type": "code",
      "metadata": {
        "id": "OfOEow9LuPNL",
        "colab_type": "code",
        "colab": {}
      },
      "source": [
        "l=l[1:]\n",
        "\n"
      ],
      "execution_count": 0,
      "outputs": []
    },
    {
      "cell_type": "code",
      "metadata": {
        "id": "0JTMv937vc7_",
        "colab_type": "code",
        "outputId": "11eaf93c-bbdb-4a16-a4f5-2ffb060d707e",
        "colab": {
          "base_uri": "https://localhost:8080/",
          "height": 34
        }
      },
      "source": [
        "l[0]"
      ],
      "execution_count": 0,
      "outputs": [
        {
          "output_type": "execute_result",
          "data": {
            "text/plain": [
              "71"
            ]
          },
          "metadata": {
            "tags": []
          },
          "execution_count": 56
        }
      ]
    },
    {
      "cell_type": "code",
      "metadata": {
        "id": "HkWC1mDXvVz1",
        "colab_type": "code",
        "colab": {}
      },
      "source": [
        "for x in l:\n",
        "  movie_names.iloc[x,2]=  movie_names.iloc[x,2]+ ','+ movie_names.iloc[x,3]"
      ],
      "execution_count": 0,
      "outputs": []
    },
    {
      "cell_type": "code",
      "metadata": {
        "id": "CyENsfsCv0L-",
        "colab_type": "code",
        "outputId": "e82f915d-1859-4cbd-e4be-a34439858b3d",
        "colab": {
          "base_uri": "https://localhost:8080/",
          "height": 1000
        }
      },
      "source": [
        "movie_names.iloc[l,2].values"
      ],
      "execution_count": 0,
      "outputs": [
        {
          "output_type": "execute_result",
          "data": {
            "text/plain": [
              "array(['At Home Among Strangers, A Stranger Among His Own',\n",
              "       'Angelina Ballerina: Lights, Camera',\n",
              "       'Dr. Quinn, Medicine Woman: Season 3',\n",
              "       'Still, We Believe: The Boston Red Sox Movie',\n",
              "       '20,000 Leagues Under the Sea', 'Doogie Howser, M.D.: Season 2',\n",
              "       'Jo Jo Dancer, Your Life is Calling', \"What's Up, Tiger Lily?\",\n",
              "       'He Loves Me, He Loves Me Not', 'He Said, She Said',\n",
              "       'Fast Food, Fast Women', \"Dr. Seuss's The 5,000 Fingers of Dr. T\",\n",
              "       \"C'est La Vie, Mon Cheri\",\n",
              "       'Niagara: Miracles, Myths & Magic: IMAX',\n",
              "       \"Zakk Wylde's Black Label Society: Boozed, Broozed & Broken-Boned\",\n",
              "       'Dead Kennedys: In God We Trust, Inc.',\n",
              "       'Brother, Can You Spare a Dime?',\n",
              "       'Dr. Martin Luther King, Jr.: A Historical Perspective',\n",
              "       'Sesame Street: Sing, Hoot & Howl',\n",
              "       'Dr. Quinn, Medicine Woman: Season 5', 'Play it Again, Sam',\n",
              "       'Vendetta: No Conscience, No Mercy', 'Truth or Consequences, N.M.',\n",
              "       'Zorro, The Gay Blade', 'Welcome Back, Mr. McDonald',\n",
              "       'Suze Orman: The Laws of Money, Lessons of Life',\n",
              "       \"AFI's 100 Years, 100 Movies\",\n",
              "       'Sesame Street: 1-2-3, Count with Me',\n",
              "       'Eric Clapton: One More Car, One More Rider',\n",
              "       'I Love You, I Love You Not',\n",
              "       'Yes, Prime Minister: The Complete Collection', 'Kiss Me, Kate',\n",
              "       'Love Me, Love My Money', \"It's Me, the Thief\",\n",
              "       'Earth, Wind & Fire in Concert',\n",
              "       'VeggieTales: Esther, the Girl Who Became Queen',\n",
              "       'Lock, Stock and Two Smoking Barrels', 'Sex, Secrets',\n",
              "       'Dancer, Texas', 'Shanghai, Shanghai',\n",
              "       'Harvey Birdman, Attorney at Law: Vol. 1',\n",
              "       'Planes, Trains and Automobiles',\n",
              "       'Baby Einstein: On the Go: Riding, Sailing and Soaring',\n",
              "       'Dragon Tales: Yes, We Can!',\n",
              "       'Now and Then, Here and There: Vol. 1: Discord and Doom',\n",
              "       'Empires: The Medici, Godfathers of the Renaissance',\n",
              "       'A Girl, 3 Guys and a Gun', 'Where Angels Go, Trouble Follows',\n",
              "       'Imitation of Life: Double Feature (1934, 1959)',\n",
              "       'Secrets of Angels, Demons & Masons', 'I, Madman',\n",
              "       'Now and Then, Here and There: Vol. 2: Flight and Fall',\n",
              "       'Fast, Cheap & Out of Control',\n",
              "       \"Rugrats All Grown Up: Dude, Where's My Horse?\",\n",
              "       'Upstairs, Downstairs: Season 3', 'Dirty Tiger, Crazy Frog',\n",
              "       'Fist of Fear, Touch of Death',\n",
              "       'Yes, Minister: Complete Collection', 'Enemies, A Love Story',\n",
              "       'Rage: 20 Years of Punk Rock, West Coast Style',\n",
              "       'The Godfather, Part II',\n",
              "       'Warren Miller: Bloopers, Blunders and Bailouts',\n",
              "       'Goodbye South, Goodbye', 'Hi, Mom!',\n",
              "       'U2: Go Home: Live From Slane Castle, Ireland',\n",
              "       'I Spit on Your Corpse, I Piss on Your Grave',\n",
              "       'Hush...Hush, Sweet Charlotte', 'Be Good, Smile Pretty',\n",
              "       'Elvira, Mistress of the Dark', 'Bright Lights, Big City',\n",
              "       'The Russians Are Coming, The Russians Are Coming',\n",
              "       'S.W.A.T.: L.A., Las Vegas', 'Dr. Quinn, Medicine Woman: Season 2',\n",
              "       'Come Back, Little Sheba', 'Ilsa, Harem Keeper of the Oil Sheiks',\n",
              "       'Ranma 1/2: Ranma Forever: Vol. 8: Someday, Somehow',\n",
              "       'Mary, Mother of Jesus', 'Tarzan, the Ape Man',\n",
              "       'VeggieTales Classics: Rack, Shack and Benny', 'Double, Double',\n",
              "       'John McLaughlin, Larry Coryell and Paco De Lucia: Meeting of the Spirits',\n",
              "       'Jimmy Timmy Power Hour: Jimmy Neutron, Boy Genius / The Fairly Oddparents',\n",
              "       'Drive Well, Sleep Carefully: On the Road with Death Cab for Cutie',\n",
              "       'Modern Warfare: The Six Day War, Yom Kippur War',\n",
              "       'Best of Travels in Europe with Rick Steves: Greece, Turkey',\n",
              "       'The Beatles: Washington D.C. Feb. 11th,1964',\n",
              "       'Walker, Texas Ranger: The Final Season',\n",
              "       'Clifford: Look Out, Clifford! / Big Fun in the Sun',\n",
              "       'Goodbye, Mr. Chips', 'Pretty Village, Pretty Flame',\n",
              "       'Skinny Tiger, Fatty Dragon',\n",
              "       'Chicago with Earth, Wind & Fire: Live at the Greek Theatre',\n",
              "       'Mystery, Alaska', 'Girl, Interrupted',\n",
              "       \"Elmo's World: Families, Mail & Bath Time\",\n",
              "       'Usher: Rhythm City: Vol. 1: Money, Power',\n",
              "       'Chuck Jones: Extremes and in Betweens, a Life in Animation',\n",
              "       'I, Robot', 'See No Evil, Hear No Evil',\n",
              "       'Best of Travels in Europe with Rick Steves: Germany, Austria & Switzerland',\n",
              "       'Earth, Wind & Fire: Live in Japan', 'Sexo, Pudor y Lagrimas',\n",
              "       \"Dude, Where's My Car?\", 'Upstairs, Downstairs: Season 4',\n",
              "       'The Godfather, Part III', 'I, the Worst of All', 'Tinker, Tailor',\n",
              "       'Other Voices, Other Rooms', 'Baby Songs: ABC,123',\n",
              "       \"It's a Mad, Mad\", \"Don't Raise the Bridge, Lower the River\",\n",
              "       'The Adventures of Priscilla, Queen of the Desert',\n",
              "       'South Park: Ghouls, Ghosts and Underpants Gnomes',\n",
              "       'I Spy: Vol. 20: So Long, Patrick Henry', 'Good Morning, Vietnam',\n",
              "       'Van Halen Live: Right Here, Right Now',\n",
              "       'Honey, We Shrunk Ourselves', 'Paris, France', 'Get Smart, Again!',\n",
              "       'Quincy, M.E.: Seasons 1 & 2', 'Ciao, Professore!',\n",
              "       'Sublime: Stories, Tales', \"It's the Pied Piper, Charlie Brown\",\n",
              "       'On Any Sunday: Motocross, Malcolm and More',\n",
              "       'ABC News Presents: Jesus, Mary and Da Vinci', 'I, Zombie',\n",
              "       'Jamie Foxx Unleashed: Lost, Stolen and Leaked!',\n",
              "       'South of Heaven, West of Hell', 'Good Times, Bed Times',\n",
              "       'CKY: Infiltrate, Destroy', 'O Brother, Where Art Thou?',\n",
              "       'Video Visits: Merida, Cancun and Belize',\n",
              "       'Hans Brinker, or the Silver Skates',\n",
              "       'Ladies and Gentlemen, Mr. Leonard Cohen', 'Easy Come, Easy Go',\n",
              "       'Monsters, Inc.: Bonus Material', 'A Man, a Plan',\n",
              "       \"He's a Woman, She's a Man\", 'Remember Me, My Love',\n",
              "       'Bill Hicks Live: Satirist, Social Critic',\n",
              "       \"Hallelujah, I'm a Bum\", 'Earth, Wind & Fire: Live by Request',\n",
              "       'The Long, Hot Summer',\n",
              "       'VeggieTales: Bible Heroes: Lions, Shepherds and Queens',\n",
              "       'Satyam, Shivam', 'Blood, Guts',\n",
              "       \"It's the Great Pumpkin, Charlie Brown\",\n",
              "       'Manon of the Spring (Jean de Florette, Part II)', 'Ashtanga, NY',\n",
              "       'Doogie Howser, M.D.: Season 1', 'The Good, the Bad and the Ugly',\n",
              "       'Murder, She Wrote: Season 1',\n",
              "       'Godzilla, Mothra and King Ghidorah: Giant Monsters All Out Attack',\n",
              "       'Johnny Cash: At Town Hall Party, 1958 & 1959',\n",
              "       \"God is Great, I'm Not\",\n",
              "       'Crosby, Stills & Nash: The Acoustic Concert',\n",
              "       'Mother, Jugs and Speed', 'Johnny Cash: The Man, His World',\n",
              "       'Hello, Dolly!', 'My Schoolmate, the Barbarian',\n",
              "       'Wake Up, Ron Burgundy',\n",
              "       'The Good, the Bad and the Beautiful / The Bikini Academy: Double Feature',\n",
              "       'Go, Go', 'Murder, My Sweet', 'Like Father, Like Son',\n",
              "       'Bobby Jones, Stroke of Genius',\n",
              "       'Bikini Bandits: Briefs, Shorts & Panties',\n",
              "       'Lucinda Williams: Live from Austin, TX',\n",
              "       'Dirty Mary, Crazy Larry', '20,000 Leagues Under the Sea',\n",
              "       'I, Claudius', 'My Father, My Mother', 'A Gun, a Car',\n",
              "       'A Cool, Dry Place', 'Blood In, Blood Out',\n",
              "       'Lucy Must Be Traded, Charlie Brown',\n",
              "       \"Caroline Myss, Ph.D.: Why People Don't Heal / Three Levels of Power\",\n",
              "       'The Magic School Bus: Bugs, Bugs',\n",
              "       \"Elmo's World: Elmo Has Two! Hands, Ears & Feet\",\n",
              "       'To Wong Foo, Thanks for Everything! Julie Newmar',\n",
              "       'Dr. Quinn, Medicine Woman: Season 6', \"Dude, Where's the Party?\",\n",
              "       'Cheating Death, Stealing Life: The Eddie Guerrero Story',\n",
              "       'Upstairs, Downstairs: Season 5', 'Upstairs, Downstairs: Season 2',\n",
              "       'Good Night, Gorilla', 'Truly, Madly', 'Sgt. Kabukiman, N.Y.P.D.',\n",
              "       'Count Yorga, Vampire',\n",
              "       'The Kennel Murder Case / Nancy Drew, Reporter: Double Feature',\n",
              "       'Kipper: Pools, Parks & Picnics', 'Babar, King of the Elephants',\n",
              "       'Picasso: Magic, Sex', 'The Cook, the Thief', 'Oh, God! Book II',\n",
              "       'National Geographic: Guns, Germs and Steel',\n",
              "       'Easy Riders, Raging Bulls', 'I, A Woman',\n",
              "       'White Hunter, Black Heart', 'Goodbye, Mr. Chips',\n",
              "       'Monsters, Inc.', '20,000 Leagues Under the Sea',\n",
              "       'Live at Knebworth: Parts One, Two & Three',\n",
              "       'Honey, I Shrunk the Kids', 'New York, New York',\n",
              "       'Sesame Street: A Celebration of Me, Grover!',\n",
              "       \"Now You See Him, Now You Don't\",\n",
              "       'Indigo Girls: Live at the Fillmore, Denver',\n",
              "       'Kids in the Hall: Same Guys, New Dresses',\n",
              "       'Six Days, Seven Nights',\n",
              "       'Another State of Mind: Social Distortion, Youth Brigade and Minor Threat',\n",
              "       'Sizzle Beach, USA', 'Heaven Knows, Mr. Allison',\n",
              "       'Love, Honor and Obey',\n",
              "       \"Sesame Street: Elmo's World: Food, Water & Exercise!\",\n",
              "       'The Magic School Bus: Creepy, Crawly Fun', 'One, Two',\n",
              "       'Black Mama, White Mama', 'Scotland, PA',\n",
              "       'Quick Toning: Abs, Arms & Lower Body of Steel',\n",
              "       'Run Silent, Run Deep', 'DeJohnette, Hancock',\n",
              "       'The Wonderful, Horrible Life of Leni Riefenstahl',\n",
              "       'Dr. Quinn, Medicine Woman: Season 1',\n",
              "       'Sesame Street: Babies, Dogs & More', 'Eerie, Indiana',\n",
              "       'Upstairs, Downstairs: Season 1',\n",
              "       'The Three Stooges: Healthy, Wealthy and Dumb', 'Vernon, Florida',\n",
              "       'Hi, Dharma!', \"What's Up, Doc?\",\n",
              "       'Great People of the Bible: Abraham, Sarah',\n",
              "       'Love, Sex & Eating the Bones', 'Mitr, My Friend',\n",
              "       'Sorry, Wrong Number', 'Sheba, Baby', 'Yours, Mine and Ours',\n",
              "       'Scream, Blacula', 'Thelonious Monk: Straight, No Chaser',\n",
              "       'Britney Baby, One More Time', 'The Toxic Avenger, Part 3',\n",
              "       'The 1,000 Eyes of Dr. Mabuse', 'Brother Sun, Sister Moon',\n",
              "       'Ilsa, the Wicked Warden', 'Motley Crue: Lewd, Crued & Tattooed',\n",
              "       'Sedona, The Spirit of Wonder: IMAX', 'Langrishe, Go Down',\n",
              "       'Jasper, Texas',\n",
              "       'Dracula, Dirty Old Man / Guess What Happened to Count Dracula',\n",
              "       'Bob the Builder: Dig, Lift', 'House, M.D.: Season 1',\n",
              "       'Car 54, Where Are You?', 'Suddenly, Last Summer',\n",
              "       'Perfect Murder, Perfect Town', 'Steal Big, Steal Little',\n",
              "       'Zone of the Enders: Dolores, i', 'Goodbye, Columbus',\n",
              "       'To Sir, with Love', 'Sex, Politics & Cocktails',\n",
              "       'Bodies, Rest & Motion', 'Faraway, So Close!', 'Kiss Me, Stupid',\n",
              "       '10,000 Black Men Named George', 'Spring, Summer',\n",
              "       \"Sesame Street: Elmo's World: Birthdays, Games & More\",\n",
              "       'Paris, Texas', 'The Good, the Bad and the Ugly: Bonus Material',\n",
              "       'Stevie Ray Vaughan and Double Trouble: Live from Austin, Texas',\n",
              "       'Best of MADtv: Seasons 8, 9 and 10',\n",
              "       \"Changing Rooms: Trust Me, I'm a Designer\",\n",
              "       'South Park: Bigger, Longer and Uncut',\n",
              "       'Jazz Casual: Basie, Gillespie',\n",
              "       'New Crouching Tiger, Hidden Dragon', \"Walk, Don't Run\",\n",
              "       'Tarzan, the Ape Man / Tarzan Escapes (Double Feature)',\n",
              "       'Cry, the Beloved Country', 'He Say, She Say',\n",
              "       'Play to Win: Secrets of Playing Slots, Blackjack & Craps',\n",
              "       \"Stan Lee's Mutants, Monsters & Marvels\",\n",
              "       'The Beast from 20,000 Fathoms', 'Steamboat Bill, Jr.',\n",
              "       'Bear in the Big Blue House: Shapes, Sounds & Colors with Bear',\n",
              "       'Martha, Inc.', \"Samurai X: Trust and Betrayal, Director's Cut\",\n",
              "       'Now and Then, Here and There: Vol. 3: Conflict and Chaos',\n",
              "       'Dave Matthews Band: Live at Folsom Field Boulder, Colorado',\n",
              "       'Cornbread, Earl and Me',\n",
              "       'God, the Devil & Bob: The Complete Series', 'sex, lies',\n",
              "       'Aloha, Bobby and Rose', 'Keep the Faith, Baby',\n",
              "       'Judy, Frank and Dean: Once in a Lifetime',\n",
              "       'Legally Blonde 2: Red, White & Blonde', 'Objective, Burma!',\n",
              "       'The One and Only, Genuine', 'The Toxic Avenger, Part 2',\n",
              "       'Milwaukee, Minnesota', 'Same Time, Next Year',\n",
              "       'Always Outnumbered, Always Outgunned',\n",
              "       'Emerson, Lake & Palmer: Welcome Back',\n",
              "       \"Don't Ask, Don't Tell (Attack of the Gay Space Invaders)\",\n",
              "       'Bellydance Fitness for Beginners: Arms, Abs',\n",
              "       'Greystoke: The Legend of Tarzan, Lord of the Apes',\n",
              "       'Dr. Quinn, Medicine Woman: Season 4', 'Frank McKlusky, C.I.',\n",
              "       'Crouching Tiger, Hidden Dragon', \"AFI's 100 Years, 100 Stars\",\n",
              "       'Ilsa, She Wolf of the SS', 'Good Bye, Lenin!',\n",
              "       'Earth, Wind and Fire: Live', 'Late August, Early September',\n",
              "       'Honey, I Blew Up the Kid', 'House of 1,000 Corpses',\n",
              "       'Alanis Morissette: Jagged Little Pill, Live',\n",
              "       'Divorce, Italian Style', 'Hey, Happy!', 'Aelita, Queen of Mars',\n",
              "       'Follow Me, Boys!', 'Corrina, Corrina', 'Happy, Texas',\n",
              "       'Paradise, Hawaiian Style', 'Bell, Book and Candle',\n",
              "       'Shake, Rattle & Rock', 'The Three Stooges: Stop, Look and Laugh',\n",
              "       'Good Men, Good Women', 'The Hot, The Cool and the Vicious',\n",
              "       'Dennis Miller - Live from Washington, D.C.',\n",
              "       'The Chronicles of Narnia: The Lion, the Witch and the Wardrobe',\n",
              "       \"I Love You, Don't Touch Me\", 'Be My Valentine, Charlie Brown',\n",
              "       'Me, Myself & Irene', 'Read-Along: Monsters, Inc.',\n",
              "       \"It's the Easter Beagle, Charlie Brown\", 'Fort Apache, the Bronx',\n",
              "       \"They Shoot Horses, Don't They?\",\n",
              "       'Into the Thin Air of Everest: Mountain of Dreams, Mountain of Doom'],\n",
              "      dtype=object)"
            ]
          },
          "metadata": {
            "tags": []
          },
          "execution_count": 58
        }
      ]
    },
    {
      "cell_type": "code",
      "metadata": {
        "id": "P1rFjCftyafr",
        "colab_type": "code",
        "colab": {}
      },
      "source": [
        "movie_names=movie_names.drop([3],axis=1)"
      ],
      "execution_count": 0,
      "outputs": []
    },
    {
      "cell_type": "code",
      "metadata": {
        "id": "pUVfc8dry4hC",
        "colab_type": "code",
        "outputId": "9e14f162-54fa-481e-9950-8e4f0a761d90",
        "colab": {
          "base_uri": "https://localhost:8080/",
          "height": 85
        }
      },
      "source": [
        "movie_names.iloc[71]"
      ],
      "execution_count": 0,
      "outputs": [
        {
          "output_type": "execute_result",
          "data": {
            "text/plain": [
              "0                                                   72\n",
              "1                                                 1974\n",
              "2    At Home Among Strangers, A Stranger Among His Own\n",
              "Name: 71, dtype: object"
            ]
          },
          "metadata": {
            "tags": []
          },
          "execution_count": 61
        }
      ]
    },
    {
      "cell_type": "code",
      "metadata": {
        "id": "4Y3n1ueqzGv-",
        "colab_type": "code",
        "outputId": "f180277e-d54c-4dd0-8dfe-ed5ea71d30d5",
        "colab": {
          "base_uri": "https://localhost:8080/",
          "height": 119
        }
      },
      "source": [
        "!pip install surprise\n",
        "from surprise import Reader, Dataset, SVD\n",
        "from surprise.model_selection import cross_validate\n",
        "from surprise import accuracy"
      ],
      "execution_count": 0,
      "outputs": [
        {
          "output_type": "stream",
          "text": [
            "Requirement already satisfied: surprise in /usr/local/lib/python3.6/dist-packages (0.1)\n",
            "Requirement already satisfied: scikit-surprise in /usr/local/lib/python3.6/dist-packages (from surprise) (1.1.0)\n",
            "Requirement already satisfied: joblib>=0.11 in /usr/local/lib/python3.6/dist-packages (from scikit-surprise->surprise) (0.14.0)\n",
            "Requirement already satisfied: scipy>=1.0.0 in /usr/local/lib/python3.6/dist-packages (from scikit-surprise->surprise) (1.3.1)\n",
            "Requirement already satisfied: numpy>=1.11.2 in /usr/local/lib/python3.6/dist-packages (from scikit-surprise->surprise) (1.17.3)\n",
            "Requirement already satisfied: six>=1.10.0 in /usr/local/lib/python3.6/dist-packages (from scikit-surprise->surprise) (1.12.0)\n"
          ],
          "name": "stdout"
        }
      ]
    },
    {
      "cell_type": "code",
      "metadata": {
        "id": "hNTjQHdlQmUK",
        "colab_type": "code",
        "colab": {}
      },
      "source": [
        "df_rec=df_1[['Cust_Id','movie_id','Rating']]"
      ],
      "execution_count": 0,
      "outputs": []
    },
    {
      "cell_type": "code",
      "metadata": {
        "id": "Qd8NAbVySKS9",
        "colab_type": "code",
        "outputId": "2c6ff422-0d44-47ab-f05f-1ec188d6d655",
        "colab": {
          "base_uri": "https://localhost:8080/",
          "height": 34
        }
      },
      "source": [
        "df_1.shape"
      ],
      "execution_count": 0,
      "outputs": [
        {
          "output_type": "execute_result",
          "data": {
            "text/plain": [
              "(24053764, 4)"
            ]
          },
          "metadata": {
            "tags": []
          },
          "execution_count": 23
        }
      ]
    },
    {
      "cell_type": "code",
      "metadata": {
        "id": "pvkH6mCpPuVV",
        "colab_type": "code",
        "outputId": "68b282f6-1b0c-421e-db14-2c2124647ee4",
        "colab": {
          "base_uri": "https://localhost:8080/",
          "height": 340
        }
      },
      "source": [
        "reader = Reader()\n",
        "svd = SVD()\n",
        "data=Dataset.load_from_df(df_rec[:100000],reader)\n",
        "cross_validate(svd, data, measures=['RMSE', 'MAE'], cv=5, verbose=True)"
      ],
      "execution_count": 0,
      "outputs": [
        {
          "output_type": "stream",
          "text": [
            "Evaluating RMSE, MAE of algorithm SVD on 5 split(s).\n",
            "\n",
            "                  Fold 1  Fold 2  Fold 3  Fold 4  Fold 5  Mean    Std     \n",
            "RMSE (testset)    1.0597  1.0484  1.0533  1.0483  1.0543  1.0528  0.0042  \n",
            "MAE (testset)     0.8435  0.8281  0.8384  0.8380  0.8417  0.8379  0.0053  \n",
            "Fit time          5.43    5.41    5.36    5.51    5.43    5.43    0.05    \n",
            "Test time         0.14    0.22    0.15    0.23    0.15    0.17    0.04    \n"
          ],
          "name": "stdout"
        },
        {
          "output_type": "execute_result",
          "data": {
            "text/plain": [
              "{'fit_time': (5.4275078773498535,\n",
              "  5.40898871421814,\n",
              "  5.355102777481079,\n",
              "  5.505940675735474,\n",
              "  5.431199550628662),\n",
              " 'test_mae': array([0.84347828, 0.82808636, 0.83842089, 0.83798478, 0.84167935]),\n",
              " 'test_rmse': array([1.05968167, 1.04837421, 1.0532833 , 1.04832633, 1.05430221]),\n",
              " 'test_time': (0.14088797569274902,\n",
              "  0.21642541885375977,\n",
              "  0.14550375938415527,\n",
              "  0.22505712509155273,\n",
              "  0.1454164981842041)}"
            ]
          },
          "metadata": {
            "tags": []
          },
          "execution_count": 17
        }
      ]
    },
    {
      "cell_type": "code",
      "metadata": {
        "id": "hzGF0hcnVy1A",
        "colab_type": "code",
        "outputId": "d1a2a00f-6d38-42b1-a634-840bcea318f0",
        "colab": {
          "base_uri": "https://localhost:8080/",
          "height": 34
        }
      },
      "source": [
        "traindata=Dataset.load_from_df(df_rec[:200000],reader)\n",
        "traindata=traindata.build_full_trainset()\n",
        "svd.fit(traindata)\n"
      ],
      "execution_count": 0,
      "outputs": [
        {
          "output_type": "execute_result",
          "data": {
            "text/plain": [
              "<surprise.prediction_algorithms.matrix_factorization.SVD at 0x7f5b4cca71d0>"
            ]
          },
          "metadata": {
            "tags": []
          },
          "execution_count": 18
        }
      ]
    },
    {
      "cell_type": "code",
      "metadata": {
        "id": "7q1jZ5azhPzX",
        "colab_type": "code",
        "outputId": "adff5e4c-eed7-4167-99f2-04dc31fcccc3",
        "colab": {
          "base_uri": "https://localhost:8080/",
          "height": 34
        }
      },
      "source": [
        "uid=df_2[df_2['Cust_Id']==510180]\n",
        "\n",
        "\n",
        "svd.predict(510180,1).est"
      ],
      "execution_count": 0,
      "outputs": [
        {
          "output_type": "execute_result",
          "data": {
            "text/plain": [
              "3.863991588594712"
            ]
          },
          "metadata": {
            "tags": []
          },
          "execution_count": 38
        }
      ]
    },
    {
      "cell_type": "code",
      "metadata": {
        "id": "lw6qTZtQj7Qb",
        "colab_type": "code",
        "colab": {}
      },
      "source": [
        "df_rec=    df_rec[:20000]\n",
        "ls1=df_rec['Cust_Id'].values\n",
        "ls2=df_2['Cust_Id'].values"
      ],
      "execution_count": 0,
      "outputs": []
    },
    {
      "cell_type": "code",
      "metadata": {
        "id": "YiEVgEt-kgjt",
        "colab_type": "code",
        "outputId": "4b90a809-48d8-43f8-f6ce-008601ebf415",
        "colab": {
          "base_uri": "https://localhost:8080/",
          "height": 34
        }
      },
      "source": [
        "ls2.shape\n",
        "ls1.shape"
      ],
      "execution_count": 0,
      "outputs": [
        {
          "output_type": "execute_result",
          "data": {
            "text/plain": [
              "(24053764,)"
            ]
          },
          "metadata": {
            "tags": []
          },
          "execution_count": 20
        }
      ]
    },
    {
      "cell_type": "code",
      "metadata": {
        "id": "8qQC-lvJubyy",
        "colab_type": "code",
        "outputId": "924d58a3-14c5-4321-fdb4-592164c052bb",
        "colab": {
          "base_uri": "https://localhost:8080/",
          "height": 34
        }
      },
      "source": [
        "df_2['Rating'].isnull().any()"
      ],
      "execution_count": 0,
      "outputs": [
        {
          "output_type": "execute_result",
          "data": {
            "text/plain": [
              "False"
            ]
          },
          "metadata": {
            "tags": []
          },
          "execution_count": 64
        }
      ]
    },
    {
      "cell_type": "code",
      "metadata": {
        "id": "gViU8zl7ktfr",
        "colab_type": "code",
        "colab": {}
      },
      "source": [
        "import numpy as np\n",
        "cmn=np.intersect1d(ls1,ls2)"
      ],
      "execution_count": 0,
      "outputs": []
    },
    {
      "cell_type": "code",
      "metadata": {
        "id": "jHOcNjkWnpQb",
        "colab_type": "code",
        "colab": {}
      },
      "source": [
        "\n",
        "actual_array=df_2[df_2['Cust_Id'].isin(cmn)]"
      ],
      "execution_count": 0,
      "outputs": []
    },
    {
      "cell_type": "code",
      "metadata": {
        "id": "6lZ1Dco2uDk4",
        "colab_type": "code",
        "colab": {}
      },
      "source": [
        "actual_array=actual_array['Rating'].values"
      ],
      "execution_count": 0,
      "outputs": []
    },
    {
      "cell_type": "code",
      "metadata": {
        "id": "M6fBZ0GotQTg",
        "colab_type": "code",
        "outputId": "d69a5d9b-4bf1-49b1-a3b0-3b9f25e9cf41",
        "colab": {
          "base_uri": "https://localhost:8080/",
          "height": 204
        }
      },
      "source": [
        ""
      ],
      "execution_count": 0,
      "outputs": [
        {
          "output_type": "execute_result",
          "data": {
            "text/plain": [
              "10        NaN\n",
              "1000004   NaN\n",
              "1000027   NaN\n",
              "1000033   NaN\n",
              "1000035   NaN\n",
              "1000038   NaN\n",
              "1000051   NaN\n",
              "1000057   NaN\n",
              "100006    NaN\n",
              "1000062   NaN\n",
              "Name: Rating, dtype: float64"
            ]
          },
          "metadata": {
            "tags": []
          },
          "execution_count": 57
        }
      ]
    },
    {
      "cell_type": "code",
      "metadata": {
        "id": "F7-71M3gjaam",
        "colab_type": "code",
        "outputId": "3b2f976c-8dd4-4c9a-f149-353384425566",
        "colab": {
          "base_uri": "https://localhost:8080/",
          "height": 34
        }
      },
      "source": [
        "uid.shape"
      ],
      "execution_count": 0,
      "outputs": [
        {
          "output_type": "execute_result",
          "data": {
            "text/plain": [
              "(0, 4)"
            ]
          },
          "metadata": {
            "tags": []
          },
          "execution_count": 39
        }
      ]
    },
    {
      "cell_type": "code",
      "metadata": {
        "id": "Vc_f6Ma_v3x5",
        "colab_type": "code",
        "outputId": "1a6159a9-a8c0-43f7-8fe2-6b803ce92d7c",
        "colab": {
          "base_uri": "https://localhost:8080/",
          "height": 197
        }
      },
      "source": [
        "testset = traindata.build_anti_testset()\n",
        "predictions = svd.test(testset)\n",
        "\n"
      ],
      "execution_count": 0,
      "outputs": [
        {
          "output_type": "error",
          "ename": "NameError",
          "evalue": "ignored",
          "traceback": [
            "\u001b[0;31m---------------------------------------------------------------------------\u001b[0m",
            "\u001b[0;31mNameError\u001b[0m                                 Traceback (most recent call last)",
            "\u001b[0;32m<ipython-input-22-e7e990448fa8>\u001b[0m in \u001b[0;36m<module>\u001b[0;34m()\u001b[0m\n\u001b[1;32m      1\u001b[0m \u001b[0mtestset\u001b[0m \u001b[0;34m=\u001b[0m \u001b[0mtraindata\u001b[0m\u001b[0;34m.\u001b[0m\u001b[0mbuild_anti_testset\u001b[0m\u001b[0;34m(\u001b[0m\u001b[0;34m)\u001b[0m\u001b[0;34m\u001b[0m\u001b[0;34m\u001b[0m\u001b[0m\n\u001b[1;32m      2\u001b[0m \u001b[0mpredictions\u001b[0m \u001b[0;34m=\u001b[0m \u001b[0msvd\u001b[0m\u001b[0;34m.\u001b[0m\u001b[0mtest\u001b[0m\u001b[0;34m(\u001b[0m\u001b[0mtestset\u001b[0m\u001b[0;34m)\u001b[0m\u001b[0;34m\u001b[0m\u001b[0;34m\u001b[0m\u001b[0m\n\u001b[0;32m----> 3\u001b[0;31m \u001b[0mtop_n\u001b[0m \u001b[0;34m=\u001b[0m \u001b[0mget_top_n\u001b[0m\u001b[0;34m(\u001b[0m\u001b[0mpredictions\u001b[0m\u001b[0;34m,\u001b[0m \u001b[0mn\u001b[0m\u001b[0;34m=\u001b[0m\u001b[0;36m10\u001b[0m\u001b[0;34m)\u001b[0m\u001b[0;34m\u001b[0m\u001b[0;34m\u001b[0m\u001b[0m\n\u001b[0m",
            "\u001b[0;31mNameError\u001b[0m: name 'get_top_n' is not defined"
          ]
        }
      ]
    },
    {
      "cell_type": "code",
      "metadata": {
        "id": "N8UfXZKpzBVz",
        "colab_type": "code",
        "outputId": "726e4e7d-05fb-4434-908b-a997bed88947",
        "colab": {
          "base_uri": "https://localhost:8080/",
          "height": 54
        }
      },
      "source": [
        "print(predictions[:10])"
      ],
      "execution_count": 0,
      "outputs": [
        {
          "output_type": "stream",
          "text": [
            "[Prediction(uid='1488844', iid=2, r_ui=3.647685, est=3.9342207858627463, details={'was_impossible': False}), Prediction(uid='1488844', iid=3, r_ui=3.647685, est=4.096366002826722, details={'was_impossible': False}), Prediction(uid='1488844', iid=4, r_ui=3.647685, est=2.6200598803566195, details={'was_impossible': False}), Prediction(uid='1488844', iid=5, r_ui=3.647685, est=4.342852343170405, details={'was_impossible': False}), Prediction(uid='1488844', iid=6, r_ui=3.647685, est=2.7433884504147454, details={'was_impossible': False}), Prediction(uid='1488844', iid=7, r_ui=3.647685, est=2.3334821381350395, details={'was_impossible': False}), Prediction(uid='1488844', iid=9, r_ui=3.647685, est=2.5247397881607005, details={'was_impossible': False}), Prediction(uid='1488844', iid=10, r_ui=3.647685, est=3.18099204464715, details={'was_impossible': False}), Prediction(uid='1488844', iid=11, r_ui=3.647685, est=3.245238744343052, details={'was_impossible': False}), Prediction(uid='1488844', iid=12, r_ui=3.647685, est=3.525604478810273, details={'was_impossible': False})]\n"
          ],
          "name": "stdout"
        }
      ]
    },
    {
      "cell_type": "code",
      "metadata": {
        "id": "OIOSfVOEzyDb",
        "colab_type": "code",
        "outputId": "e6b565ed-9fe9-4822-a5d2-91c6d9406bb5",
        "colab": {
          "base_uri": "https://localhost:8080/",
          "height": 51
        }
      },
      "source": [
        "accuracy.rmse(predictions)"
      ],
      "execution_count": 0,
      "outputs": [
        {
          "output_type": "stream",
          "text": [
            "RMSE: 0.6224\n"
          ],
          "name": "stdout"
        },
        {
          "output_type": "execute_result",
          "data": {
            "text/plain": [
              "0.6224425849454069"
            ]
          },
          "metadata": {
            "tags": []
          },
          "execution_count": 28
        }
      ]
    },
    {
      "cell_type": "code",
      "metadata": {
        "id": "Ta0hRxwu7PgF",
        "colab_type": "code",
        "colab": {}
      },
      "source": [
        "movie_list=pd.read_csv('/content/gdrive/My Drive/merged.csv')"
      ],
      "execution_count": 0,
      "outputs": []
    },
    {
      "cell_type": "code",
      "metadata": {
        "id": "AycGypROBmWU",
        "colab_type": "code",
        "outputId": "4c4c9448-0468-43f3-ec07-95602b693e2c",
        "colab": {
          "base_uri": "https://localhost:8080/",
          "height": 34
        }
      },
      "source": [
        "movie_list.shape"
      ],
      "execution_count": 0,
      "outputs": [
        {
          "output_type": "execute_result",
          "data": {
            "text/plain": [
              "(12662, 42)"
            ]
          },
          "metadata": {
            "tags": []
          },
          "execution_count": 30
        }
      ]
    },
    {
      "cell_type": "code",
      "metadata": {
        "id": "ZsABrYBaBqY5",
        "colab_type": "code",
        "colab": {}
      },
      "source": [
        "movie_list=movie_list.iloc[:,3:]"
      ],
      "execution_count": 0,
      "outputs": []
    },
    {
      "cell_type": "code",
      "metadata": {
        "id": "kZIMU_YyCSZx",
        "colab_type": "code",
        "outputId": "32d3bf53-700d-4266-e7ad-ba88ac62540f",
        "colab": {
          "base_uri": "https://localhost:8080/",
          "height": 683
        }
      },
      "source": [
        "movie_list.head()"
      ],
      "execution_count": 0,
      "outputs": [
        {
          "output_type": "execute_result",
          "data": {
            "text/html": [
              "<div>\n",
              "<style scoped>\n",
              "    .dataframe tbody tr th:only-of-type {\n",
              "        vertical-align: middle;\n",
              "    }\n",
              "\n",
              "    .dataframe tbody tr th {\n",
              "        vertical-align: top;\n",
              "    }\n",
              "\n",
              "    .dataframe thead th {\n",
              "        text-align: right;\n",
              "    }\n",
              "</style>\n",
              "<table border=\"1\" class=\"dataframe\">\n",
              "  <thead>\n",
              "    <tr style=\"text-align: right;\">\n",
              "      <th></th>\n",
              "      <th>actors</th>\n",
              "      <th>awards</th>\n",
              "      <th>box_office</th>\n",
              "      <th>country</th>\n",
              "      <th>director</th>\n",
              "      <th>dvd</th>\n",
              "      <th>genre</th>\n",
              "      <th>imdb_id</th>\n",
              "      <th>imdb_rating</th>\n",
              "      <th>imdb_votes</th>\n",
              "      <th>language</th>\n",
              "      <th>metascore</th>\n",
              "      <th>movie_id</th>\n",
              "      <th>movie_year_netflix</th>\n",
              "      <th>plot</th>\n",
              "      <th>poster</th>\n",
              "      <th>production</th>\n",
              "      <th>rated</th>\n",
              "      <th>ratings</th>\n",
              "      <th>released</th>\n",
              "      <th>response</th>\n",
              "      <th>runtime</th>\n",
              "      <th>title</th>\n",
              "      <th>tomato_consensus</th>\n",
              "      <th>tomato_fresh</th>\n",
              "      <th>tomato_image</th>\n",
              "      <th>tomato_meter</th>\n",
              "      <th>tomato_rating</th>\n",
              "      <th>tomato_reviews</th>\n",
              "      <th>tomato_rotten</th>\n",
              "      <th>tomato_url</th>\n",
              "      <th>tomato_user_meter</th>\n",
              "      <th>tomato_user_rating</th>\n",
              "      <th>tomato_user_reviews</th>\n",
              "      <th>total_seasons</th>\n",
              "      <th>type</th>\n",
              "      <th>website</th>\n",
              "      <th>writer</th>\n",
              "      <th>year</th>\n",
              "    </tr>\n",
              "  </thead>\n",
              "  <tbody>\n",
              "    <tr>\n",
              "      <th>0</th>\n",
              "      <td>Christian Slater, Scott Sampson</td>\n",
              "      <td>Won 2 Primetime Emmys. Another 4 nominations.</td>\n",
              "      <td>NaN</td>\n",
              "      <td>USA</td>\n",
              "      <td>NaN</td>\n",
              "      <td>NaN</td>\n",
              "      <td>Documentary, Animation, Family</td>\n",
              "      <td>tt0389605</td>\n",
              "      <td>7.7</td>\n",
              "      <td>410</td>\n",
              "      <td>English</td>\n",
              "      <td>NaN</td>\n",
              "      <td>1.0</td>\n",
              "      <td>2003.0</td>\n",
              "      <td>A four-episode animated series charting the ad...</td>\n",
              "      <td>https://m.media-amazon.com/images/M/MV5BNTY2MD...</td>\n",
              "      <td>NaN</td>\n",
              "      <td>NaN</td>\n",
              "      <td>[{'source': 'Internet Movie Database', 'value'...</td>\n",
              "      <td>14 Dec 2003</td>\n",
              "      <td>True</td>\n",
              "      <td>50 min</td>\n",
              "      <td>Dinosaur Planet</td>\n",
              "      <td>NaN</td>\n",
              "      <td>NaN</td>\n",
              "      <td>NaN</td>\n",
              "      <td>NaN</td>\n",
              "      <td>NaN</td>\n",
              "      <td>NaN</td>\n",
              "      <td>NaN</td>\n",
              "      <td>NaN</td>\n",
              "      <td>NaN</td>\n",
              "      <td>NaN</td>\n",
              "      <td>NaN</td>\n",
              "      <td>NaN</td>\n",
              "      <td>series</td>\n",
              "      <td>NaN</td>\n",
              "      <td>NaN</td>\n",
              "      <td>2003Ã¢ÂÂ</td>\n",
              "    </tr>\n",
              "    <tr>\n",
              "      <th>1</th>\n",
              "      <td>Jan Decleir, Fedja van HuÃÂªt, Betty Schuurma...</td>\n",
              "      <td>Won 1 Oscar. Another 16 wins &amp; 6 nominations.</td>\n",
              "      <td>NaN</td>\n",
              "      <td>Netherlands, Belgium</td>\n",
              "      <td>Mike van Diem</td>\n",
              "      <td>04 Feb 2003</td>\n",
              "      <td>Crime, Drama, Mystery</td>\n",
              "      <td>tt0119448</td>\n",
              "      <td>7.7</td>\n",
              "      <td>10,015</td>\n",
              "      <td>Dutch, English, German, French</td>\n",
              "      <td>NaN</td>\n",
              "      <td>3.0</td>\n",
              "      <td>1997.0</td>\n",
              "      <td>In the 20's, in Netherlands, Jacob Willem Kata...</td>\n",
              "      <td>https://m.media-amazon.com/images/M/MV5BYjE3NG...</td>\n",
              "      <td>Sony Pictures Classics</td>\n",
              "      <td>R</td>\n",
              "      <td>[{'source': 'Internet Movie Database', 'value'...</td>\n",
              "      <td>27 Mar 1998</td>\n",
              "      <td>True</td>\n",
              "      <td>122 min</td>\n",
              "      <td>Character</td>\n",
              "      <td>NaN</td>\n",
              "      <td>NaN</td>\n",
              "      <td>NaN</td>\n",
              "      <td>NaN</td>\n",
              "      <td>NaN</td>\n",
              "      <td>NaN</td>\n",
              "      <td>NaN</td>\n",
              "      <td>http://www.rottentomatoes.com/m/character/</td>\n",
              "      <td>NaN</td>\n",
              "      <td>NaN</td>\n",
              "      <td>NaN</td>\n",
              "      <td>NaN</td>\n",
              "      <td>movie</td>\n",
              "      <td>NaN</td>\n",
              "      <td>Ferdinand Bordewijk (short story \"Dreverhaven ...</td>\n",
              "      <td>1997</td>\n",
              "    </tr>\n",
              "    <tr>\n",
              "      <th>2</th>\n",
              "      <td>Alan Breck, Joanna Alexander, Michael Selwood,...</td>\n",
              "      <td>14 wins.</td>\n",
              "      <td>NaN</td>\n",
              "      <td>UK</td>\n",
              "      <td>Mike Rymer</td>\n",
              "      <td>23 Sep 2003</td>\n",
              "      <td>Short, Drama</td>\n",
              "      <td>tt1135523</td>\n",
              "      <td>6.2</td>\n",
              "      <td>39</td>\n",
              "      <td>English</td>\n",
              "      <td>NaN</td>\n",
              "      <td>6.0</td>\n",
              "      <td>1997.0</td>\n",
              "      <td>The experience of depression and alcoholism ha...</td>\n",
              "      <td>https://m.media-amazon.com/images/M/MV5BMTI2NT...</td>\n",
              "      <td>NaN</td>\n",
              "      <td>NaN</td>\n",
              "      <td>[{'source': 'Internet Movie Database', 'value'...</td>\n",
              "      <td>13 Apr 2008</td>\n",
              "      <td>True</td>\n",
              "      <td>15 min</td>\n",
              "      <td>Sick</td>\n",
              "      <td>NaN</td>\n",
              "      <td>NaN</td>\n",
              "      <td>NaN</td>\n",
              "      <td>NaN</td>\n",
              "      <td>NaN</td>\n",
              "      <td>NaN</td>\n",
              "      <td>NaN</td>\n",
              "      <td>http://www.rottentomatoes.com/m/sick-2007/</td>\n",
              "      <td>NaN</td>\n",
              "      <td>NaN</td>\n",
              "      <td>NaN</td>\n",
              "      <td>NaN</td>\n",
              "      <td>movie</td>\n",
              "      <td>NaN</td>\n",
              "      <td>Mike Rymer</td>\n",
              "      <td>2007</td>\n",
              "    </tr>\n",
              "    <tr>\n",
              "      <th>3</th>\n",
              "      <td>Kai Shishido, Etsushi Takahashi, Sachiko Ayase...</td>\n",
              "      <td>NaN</td>\n",
              "      <td>NaN</td>\n",
              "      <td>Japan</td>\n",
              "      <td>Yasuhiro Horiuchi</td>\n",
              "      <td>28 Mar 1995</td>\n",
              "      <td>Action, Sci-Fi</td>\n",
              "      <td>tt0182668</td>\n",
              "      <td>5.0</td>\n",
              "      <td>62</td>\n",
              "      <td>Japanese</td>\n",
              "      <td>NaN</td>\n",
              "      <td>7.0</td>\n",
              "      <td>1992.0</td>\n",
              "      <td>After Tokyo police officer Yokoda is killed in...</td>\n",
              "      <td>https://m.media-amazon.com/images/M/MV5BMTMxNz...</td>\n",
              "      <td>NaN</td>\n",
              "      <td>NaN</td>\n",
              "      <td>[{'source': 'Internet Movie Database', 'value'...</td>\n",
              "      <td>NaN</td>\n",
              "      <td>True</td>\n",
              "      <td>83 min</td>\n",
              "      <td>8 Man</td>\n",
              "      <td>NaN</td>\n",
              "      <td>NaN</td>\n",
              "      <td>NaN</td>\n",
              "      <td>NaN</td>\n",
              "      <td>NaN</td>\n",
              "      <td>NaN</td>\n",
              "      <td>NaN</td>\n",
              "      <td>http://www.rottentomatoes.com/m/8_man/</td>\n",
              "      <td>NaN</td>\n",
              "      <td>NaN</td>\n",
              "      <td>NaN</td>\n",
              "      <td>NaN</td>\n",
              "      <td>movie</td>\n",
              "      <td>NaN</td>\n",
              "      <td>Kazumasa Hirai (comic-book), JirÃÂ´ Kuwata (c...</td>\n",
              "      <td>1992</td>\n",
              "    </tr>\n",
              "    <tr>\n",
              "      <th>4</th>\n",
              "      <td>Semra Turan, Nima Nabipour, Cyron Melville, Mo...</td>\n",
              "      <td>1 win &amp; 4 nominations.</td>\n",
              "      <td>NaN</td>\n",
              "      <td>Denmark, Sweden</td>\n",
              "      <td>Natasha Arthy</td>\n",
              "      <td>NaN</td>\n",
              "      <td>Action, Drama</td>\n",
              "      <td>tt0995029</td>\n",
              "      <td>6.5</td>\n",
              "      <td>1,394</td>\n",
              "      <td>Danish, Turkish, English, Chinese</td>\n",
              "      <td>NaN</td>\n",
              "      <td>10.0</td>\n",
              "      <td>2001.0</td>\n",
              "      <td>Aicha, a high-school student, is a passionate ...</td>\n",
              "      <td>https://m.media-amazon.com/images/M/MV5BYzMzMm...</td>\n",
              "      <td>First Run Features</td>\n",
              "      <td>NaN</td>\n",
              "      <td>[{'source': 'Internet Movie Database', 'value'...</td>\n",
              "      <td>14 Dec 2007</td>\n",
              "      <td>True</td>\n",
              "      <td>100 min</td>\n",
              "      <td>Fighter</td>\n",
              "      <td>NaN</td>\n",
              "      <td>NaN</td>\n",
              "      <td>NaN</td>\n",
              "      <td>NaN</td>\n",
              "      <td>NaN</td>\n",
              "      <td>NaN</td>\n",
              "      <td>NaN</td>\n",
              "      <td>http://www.rottentomatoes.com/m/fighter-aicha/</td>\n",
              "      <td>NaN</td>\n",
              "      <td>NaN</td>\n",
              "      <td>NaN</td>\n",
              "      <td>NaN</td>\n",
              "      <td>movie</td>\n",
              "      <td>NaN</td>\n",
              "      <td>Nikolaj Arcel, Natasha Arthy, Rasmus Heisterberg</td>\n",
              "      <td>2007</td>\n",
              "    </tr>\n",
              "  </tbody>\n",
              "</table>\n",
              "</div>"
            ],
            "text/plain": [
              "                                              actors  ...        year\n",
              "0                    Christian Slater, Scott Sampson  ...  2003Ã¢ÂÂ\n",
              "1  Jan Decleir, Fedja van HuÃÂªt, Betty Schuurma...  ...        1997\n",
              "2  Alan Breck, Joanna Alexander, Michael Selwood,...  ...        2007\n",
              "3  Kai Shishido, Etsushi Takahashi, Sachiko Ayase...  ...        1992\n",
              "4  Semra Turan, Nima Nabipour, Cyron Melville, Mo...  ...        2007\n",
              "\n",
              "[5 rows x 39 columns]"
            ]
          },
          "metadata": {
            "tags": []
          },
          "execution_count": 37
        }
      ]
    },
    {
      "cell_type": "code",
      "metadata": {
        "id": "qnT0B0uXCmuL",
        "colab_type": "code",
        "outputId": "e77aad93-50ec-414c-ee72-c2c09e850d8d",
        "colab": {
          "base_uri": "https://localhost:8080/",
          "height": 221
        }
      },
      "source": [
        "movie_list['movie_id']"
      ],
      "execution_count": 0,
      "outputs": [
        {
          "output_type": "execute_result",
          "data": {
            "text/plain": [
              "0            1.0\n",
              "1            3.0\n",
              "2            6.0\n",
              "3            7.0\n",
              "4           10.0\n",
              "          ...   \n",
              "12657    17692.0\n",
              "12658    17693.0\n",
              "12659    17694.0\n",
              "12660    17695.0\n",
              "12661    17697.0\n",
              "Name: movie_id, Length: 12662, dtype: float64"
            ]
          },
          "metadata": {
            "tags": []
          },
          "execution_count": 38
        }
      ]
    }
  ]
}