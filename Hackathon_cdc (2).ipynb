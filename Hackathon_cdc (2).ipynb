{
 "cells": [
  {
   "cell_type": "code",
   "execution_count": 1,
   "metadata": {},
   "outputs": [
    {
     "name": "stdout",
     "output_type": "stream",
     "text": [
      "Using matplotlib backend: Qt5Agg\n"
     ]
    }
   ],
   "source": [
    "import pandas as pd\n",
    "import matplotlib.pyplot as plt\n",
    "%matplotlib\n",
    "import numpy as np\n",
    "import scipy.stats as stats"
   ]
  },
  {
   "cell_type": "code",
   "execution_count": null,
   "metadata": {},
   "outputs": [],
   "source": []
  },
  {
   "cell_type": "code",
   "execution_count": 2,
   "metadata": {},
   "outputs": [],
   "source": [
    "df=pd.read_csv('/home/aditya/Downloads/sales_week.csv')"
   ]
  },
  {
   "cell_type": "code",
   "execution_count": 3,
   "metadata": {},
   "outputs": [
    {
     "data": {
      "text/plain": [
       "(363852, 10)"
      ]
     },
     "execution_count": 3,
     "metadata": {},
     "output_type": "execute_result"
    }
   ],
   "source": [
    "df1=df.copy()\n",
    "df1=df1.rename({'\"year\"':'yr'},axis=1)\n",
    "df1.shape"
   ]
  },
  {
   "cell_type": "code",
   "execution_count": 4,
   "metadata": {},
   "outputs": [
    {
     "name": "stdout",
     "output_type": "stream",
     "text": [
      "item_id            False\n",
      "store_id           False\n",
      "week               False\n",
      "\"year\"             False\n",
      "sales_units        False\n",
      "product_pyramid    False\n",
      "end_use            False\n",
      "solid_novelty      False\n",
      "offer_type         False\n",
      "color_family       False\n",
      "dtype: bool\n"
     ]
    }
   ],
   "source": [
    "s=df.isnull().any()\n",
    "print(s)"
   ]
  },
  {
   "cell_type": "code",
   "execution_count": 5,
   "metadata": {},
   "outputs": [
    {
     "data": {
      "text/plain": [
       "item_id             int64\n",
       "store_id            int64\n",
       "week                int64\n",
       "\"year\"              int64\n",
       "sales_units         int64\n",
       "product_pyramid    object\n",
       "end_use            object\n",
       "solid_novelty      object\n",
       "offer_type         object\n",
       "color_family       object\n",
       "dtype: object"
      ]
     },
     "execution_count": 5,
     "metadata": {},
     "output_type": "execute_result"
    }
   ],
   "source": [
    "df.dtypes"
   ]
  },
  {
   "cell_type": "code",
   "execution_count": 6,
   "metadata": {},
   "outputs": [],
   "source": [
    "df.head(20)\n",
    "df=df.rename({'\"year\"':'yr'},axis=1)"
   ]
  },
  {
   "cell_type": "code",
   "execution_count": 7,
   "metadata": {},
   "outputs": [
    {
     "data": {
      "text/html": [
       "<div>\n",
       "<style scoped>\n",
       "    .dataframe tbody tr th:only-of-type {\n",
       "        vertical-align: middle;\n",
       "    }\n",
       "\n",
       "    .dataframe tbody tr th {\n",
       "        vertical-align: top;\n",
       "    }\n",
       "\n",
       "    .dataframe thead th {\n",
       "        text-align: right;\n",
       "    }\n",
       "</style>\n",
       "<table border=\"1\" class=\"dataframe\">\n",
       "  <thead>\n",
       "    <tr style=\"text-align: right;\">\n",
       "      <th></th>\n",
       "      <th>item_id</th>\n",
       "      <th>store_id</th>\n",
       "      <th>week</th>\n",
       "      <th>yr</th>\n",
       "      <th>sales_units</th>\n",
       "      <th>product_pyramid</th>\n",
       "      <th>end_use</th>\n",
       "      <th>solid_novelty</th>\n",
       "      <th>offer_type</th>\n",
       "      <th>color_family</th>\n",
       "    </tr>\n",
       "  </thead>\n",
       "  <tbody>\n",
       "    <tr>\n",
       "      <th>0</th>\n",
       "      <td>5384</td>\n",
       "      <td>7</td>\n",
       "      <td>31</td>\n",
       "      <td>2018</td>\n",
       "      <td>70</td>\n",
       "      <td>Fashion</td>\n",
       "      <td>Career</td>\n",
       "      <td>Footwear</td>\n",
       "      <td>New &amp; Feature</td>\n",
       "      <td>Green</td>\n",
       "    </tr>\n",
       "    <tr>\n",
       "      <th>1</th>\n",
       "      <td>5384</td>\n",
       "      <td>7</td>\n",
       "      <td>31</td>\n",
       "      <td>2019</td>\n",
       "      <td>64</td>\n",
       "      <td>Fashion</td>\n",
       "      <td>Career</td>\n",
       "      <td>Footwear</td>\n",
       "      <td>New &amp; Feature</td>\n",
       "      <td>Green</td>\n",
       "    </tr>\n",
       "    <tr>\n",
       "      <th>2</th>\n",
       "      <td>5384</td>\n",
       "      <td>7</td>\n",
       "      <td>32</td>\n",
       "      <td>2018</td>\n",
       "      <td>111</td>\n",
       "      <td>Fashion</td>\n",
       "      <td>Career</td>\n",
       "      <td>Footwear</td>\n",
       "      <td>New &amp; Feature</td>\n",
       "      <td>Green</td>\n",
       "    </tr>\n",
       "    <tr>\n",
       "      <th>3</th>\n",
       "      <td>5384</td>\n",
       "      <td>7</td>\n",
       "      <td>32</td>\n",
       "      <td>2019</td>\n",
       "      <td>76</td>\n",
       "      <td>Fashion</td>\n",
       "      <td>Career</td>\n",
       "      <td>Footwear</td>\n",
       "      <td>New &amp; Feature</td>\n",
       "      <td>Green</td>\n",
       "    </tr>\n",
       "    <tr>\n",
       "      <th>4</th>\n",
       "      <td>5384</td>\n",
       "      <td>7</td>\n",
       "      <td>33</td>\n",
       "      <td>2018</td>\n",
       "      <td>77</td>\n",
       "      <td>Fashion</td>\n",
       "      <td>Career</td>\n",
       "      <td>Footwear</td>\n",
       "      <td>New &amp; Feature</td>\n",
       "      <td>Green</td>\n",
       "    </tr>\n",
       "  </tbody>\n",
       "</table>\n",
       "</div>"
      ],
      "text/plain": [
       "   item_id  store_id  week    yr  sales_units product_pyramid end_use  \\\n",
       "0     5384         7    31  2018           70         Fashion  Career   \n",
       "1     5384         7    31  2019           64         Fashion  Career   \n",
       "2     5384         7    32  2018          111         Fashion  Career   \n",
       "3     5384         7    32  2019           76         Fashion  Career   \n",
       "4     5384         7    33  2018           77         Fashion  Career   \n",
       "\n",
       "  solid_novelty     offer_type color_family  \n",
       "0      Footwear  New & Feature        Green  \n",
       "1      Footwear  New & Feature        Green  \n",
       "2      Footwear  New & Feature        Green  \n",
       "3      Footwear  New & Feature        Green  \n",
       "4      Footwear  New & Feature        Green  "
      ]
     },
     "execution_count": 7,
     "metadata": {},
     "output_type": "execute_result"
    }
   ],
   "source": [
    "df.head()"
   ]
  },
  {
   "cell_type": "code",
   "execution_count": 8,
   "metadata": {},
   "outputs": [
    {
     "data": {
      "text/plain": [
       "array(['Fashion', 'Basic', 'Seasonal Fashion', 'Footwear',\n",
       "       'Seasonal Basics', 'unknown', 'Accessories'], dtype=object)"
      ]
     },
     "execution_count": 8,
     "metadata": {},
     "output_type": "execute_result"
    }
   ],
   "source": [
    "df['product_pyramid'].unique()"
   ]
  },
  {
   "cell_type": "code",
   "execution_count": 9,
   "metadata": {},
   "outputs": [],
   "source": [
    "x=df['sales_units'].values\n",
    "df=df.drop('sales_units',axis=1)"
   ]
  },
  {
   "cell_type": "code",
   "execution_count": 10,
   "metadata": {},
   "outputs": [
    {
     "name": "stdout",
     "output_type": "stream",
     "text": [
      "[ 70  64 111 ...   1   2   2]\n"
     ]
    }
   ],
   "source": [
    "print(x)"
   ]
  },
  {
   "cell_type": "code",
   "execution_count": 11,
   "metadata": {},
   "outputs": [
    {
     "data": {
      "text/html": [
       "<div>\n",
       "<style scoped>\n",
       "    .dataframe tbody tr th:only-of-type {\n",
       "        vertical-align: middle;\n",
       "    }\n",
       "\n",
       "    .dataframe tbody tr th {\n",
       "        vertical-align: top;\n",
       "    }\n",
       "\n",
       "    .dataframe thead th {\n",
       "        text-align: right;\n",
       "    }\n",
       "</style>\n",
       "<table border=\"1\" class=\"dataframe\">\n",
       "  <thead>\n",
       "    <tr style=\"text-align: right;\">\n",
       "      <th></th>\n",
       "      <th>item_id</th>\n",
       "      <th>store_id</th>\n",
       "      <th>week</th>\n",
       "      <th>yr</th>\n",
       "      <th>product_pyramid</th>\n",
       "      <th>end_use</th>\n",
       "      <th>solid_novelty</th>\n",
       "      <th>offer_type</th>\n",
       "      <th>color_family</th>\n",
       "    </tr>\n",
       "  </thead>\n",
       "  <tbody>\n",
       "    <tr>\n",
       "      <th>0</th>\n",
       "      <td>5384</td>\n",
       "      <td>7</td>\n",
       "      <td>31</td>\n",
       "      <td>2018</td>\n",
       "      <td>Fashion</td>\n",
       "      <td>Career</td>\n",
       "      <td>Footwear</td>\n",
       "      <td>New &amp; Feature</td>\n",
       "      <td>Green</td>\n",
       "    </tr>\n",
       "    <tr>\n",
       "      <th>1</th>\n",
       "      <td>5384</td>\n",
       "      <td>7</td>\n",
       "      <td>31</td>\n",
       "      <td>2019</td>\n",
       "      <td>Fashion</td>\n",
       "      <td>Career</td>\n",
       "      <td>Footwear</td>\n",
       "      <td>New &amp; Feature</td>\n",
       "      <td>Green</td>\n",
       "    </tr>\n",
       "    <tr>\n",
       "      <th>2</th>\n",
       "      <td>5384</td>\n",
       "      <td>7</td>\n",
       "      <td>32</td>\n",
       "      <td>2018</td>\n",
       "      <td>Fashion</td>\n",
       "      <td>Career</td>\n",
       "      <td>Footwear</td>\n",
       "      <td>New &amp; Feature</td>\n",
       "      <td>Green</td>\n",
       "    </tr>\n",
       "    <tr>\n",
       "      <th>3</th>\n",
       "      <td>5384</td>\n",
       "      <td>7</td>\n",
       "      <td>32</td>\n",
       "      <td>2019</td>\n",
       "      <td>Fashion</td>\n",
       "      <td>Career</td>\n",
       "      <td>Footwear</td>\n",
       "      <td>New &amp; Feature</td>\n",
       "      <td>Green</td>\n",
       "    </tr>\n",
       "    <tr>\n",
       "      <th>4</th>\n",
       "      <td>5384</td>\n",
       "      <td>7</td>\n",
       "      <td>33</td>\n",
       "      <td>2018</td>\n",
       "      <td>Fashion</td>\n",
       "      <td>Career</td>\n",
       "      <td>Footwear</td>\n",
       "      <td>New &amp; Feature</td>\n",
       "      <td>Green</td>\n",
       "    </tr>\n",
       "    <tr>\n",
       "      <th>5</th>\n",
       "      <td>5384</td>\n",
       "      <td>7</td>\n",
       "      <td>33</td>\n",
       "      <td>2019</td>\n",
       "      <td>Fashion</td>\n",
       "      <td>Career</td>\n",
       "      <td>Footwear</td>\n",
       "      <td>New &amp; Feature</td>\n",
       "      <td>Green</td>\n",
       "    </tr>\n",
       "    <tr>\n",
       "      <th>6</th>\n",
       "      <td>5384</td>\n",
       "      <td>7</td>\n",
       "      <td>34</td>\n",
       "      <td>2018</td>\n",
       "      <td>Fashion</td>\n",
       "      <td>Career</td>\n",
       "      <td>Footwear</td>\n",
       "      <td>New &amp; Feature</td>\n",
       "      <td>Green</td>\n",
       "    </tr>\n",
       "    <tr>\n",
       "      <th>7</th>\n",
       "      <td>5384</td>\n",
       "      <td>7</td>\n",
       "      <td>34</td>\n",
       "      <td>2019</td>\n",
       "      <td>Fashion</td>\n",
       "      <td>Career</td>\n",
       "      <td>Footwear</td>\n",
       "      <td>New &amp; Feature</td>\n",
       "      <td>Green</td>\n",
       "    </tr>\n",
       "    <tr>\n",
       "      <th>8</th>\n",
       "      <td>5384</td>\n",
       "      <td>7</td>\n",
       "      <td>35</td>\n",
       "      <td>2018</td>\n",
       "      <td>Fashion</td>\n",
       "      <td>Career</td>\n",
       "      <td>Footwear</td>\n",
       "      <td>New &amp; Feature</td>\n",
       "      <td>Green</td>\n",
       "    </tr>\n",
       "    <tr>\n",
       "      <th>9</th>\n",
       "      <td>5384</td>\n",
       "      <td>7</td>\n",
       "      <td>35</td>\n",
       "      <td>2019</td>\n",
       "      <td>Fashion</td>\n",
       "      <td>Career</td>\n",
       "      <td>Footwear</td>\n",
       "      <td>New &amp; Feature</td>\n",
       "      <td>Green</td>\n",
       "    </tr>\n",
       "  </tbody>\n",
       "</table>\n",
       "</div>"
      ],
      "text/plain": [
       "   item_id  store_id  week    yr product_pyramid end_use solid_novelty  \\\n",
       "0     5384         7    31  2018         Fashion  Career      Footwear   \n",
       "1     5384         7    31  2019         Fashion  Career      Footwear   \n",
       "2     5384         7    32  2018         Fashion  Career      Footwear   \n",
       "3     5384         7    32  2019         Fashion  Career      Footwear   \n",
       "4     5384         7    33  2018         Fashion  Career      Footwear   \n",
       "5     5384         7    33  2019         Fashion  Career      Footwear   \n",
       "6     5384         7    34  2018         Fashion  Career      Footwear   \n",
       "7     5384         7    34  2019         Fashion  Career      Footwear   \n",
       "8     5384         7    35  2018         Fashion  Career      Footwear   \n",
       "9     5384         7    35  2019         Fashion  Career      Footwear   \n",
       "\n",
       "      offer_type color_family  \n",
       "0  New & Feature        Green  \n",
       "1  New & Feature        Green  \n",
       "2  New & Feature        Green  \n",
       "3  New & Feature        Green  \n",
       "4  New & Feature        Green  \n",
       "5  New & Feature        Green  \n",
       "6  New & Feature        Green  \n",
       "7  New & Feature        Green  \n",
       "8  New & Feature        Green  \n",
       "9  New & Feature        Green  "
      ]
     },
     "execution_count": 11,
     "metadata": {},
     "output_type": "execute_result"
    }
   ],
   "source": [
    "df.head(10)"
   ]
  },
  {
   "cell_type": "code",
   "execution_count": 12,
   "metadata": {},
   "outputs": [
    {
     "data": {
      "text/plain": [
       "8046"
      ]
     },
     "execution_count": 12,
     "metadata": {},
     "output_type": "execute_result"
    }
   ],
   "source": [
    "sorted(df.item_id.unique())[-1]"
   ]
  },
  {
   "cell_type": "code",
   "execution_count": 13,
   "metadata": {},
   "outputs": [
    {
     "name": "stdout",
     "output_type": "stream",
     "text": [
      "      id  sales  year  week\n",
      "0   1428      3  2018    24\n",
      "1   1428      3  2018    25\n",
      "2   1428      2  2018    26\n",
      "3   1428      5  2018    27\n",
      "4   1428      1  2018    28\n",
      "12  1428      1  2018    28\n",
      "5   1428      1  2018    29\n",
      "6   1428      3  2018    30\n",
      "7   1428      2  2018    32\n",
      "8   1428      1  2018    33\n",
      "9   1428      2  2018    36\n",
      "10  1428      1  2018    38\n",
      "11  1428      1  2018    42\n",
      "13  1428     19  2018    44\n",
      "       id  sales  year  week\n",
      "72   5079      1  2018     1\n",
      "135  5079      1  2018    15\n",
      "136  5079      1  2018    16\n",
      "137  5079      1  2018    17\n",
      "139  5079      1  2018    18\n",
      "53   5079      1  2018    19\n",
      "83   5079      1  2018    19\n",
      "140  5079      5  2018    19\n",
      "51   5079     14  2018    20\n",
      "85   5079     11  2018    20\n",
      "142  5079      1  2018    20\n",
      "49   5079     38  2018    21\n",
      "87   5079     12  2018    21\n",
      "144  5079      2  2018    21\n",
      "47   5079     95  2018    22\n",
      "89   5079     52  2018    22\n",
      "45   5079     97  2018    23\n",
      "91   5079     47  2018    23\n",
      "146  5079      1  2018    23\n",
      "43   5079    132  2018    24\n",
      "93   5079     37  2018    24\n",
      "147  5079      2  2018    24\n",
      "41   5079     75  2018    25\n",
      "149  5079      1  2018    25\n",
      "39   5079     84  2018    26\n",
      "       id  sales  year  week\n",
      "30   5384     10  2018     1\n",
      "70   5384      4  2018     1\n",
      "280  5384      1  2018     1\n",
      "143  5384      1  2018     2\n",
      "140  5384      1  2018     3\n",
      "200  5384      1  2018     5\n",
      "198  5384      5  2018     6\n",
      "194  5384      1  2018     8\n",
      "189  5384      3  2018     9\n",
      "185  5384      2  2018    10\n",
      "183  5384      2  2018    11\n",
      "180  5384      3  2018    12\n",
      "175  5384      6  2018    13\n",
      "165  5384      1  2018    15\n",
      "154  5384      3  2018    16\n",
      "150  5384      2  2018    17\n",
      "141  5384      3  2018    18\n",
      "192  5384      2  2018    19\n",
      "169  5384      4  2018    20\n",
      "52   5384      1  2018    22\n",
      "195  5384      1  2018    22\n",
      "54   5384      2  2018    23\n",
      "93   5384      3  2018    23\n",
      "156  5384      1  2018    23\n",
      "56   5384     27  2018    24\n"
     ]
    }
   ],
   "source": [
    "for x in sorted(df1.item_id.unique()[:3]):\n",
    "    df_item=df1[df1['item_id']==x]\n",
    "    arr1=df_item['item_id'].values\n",
    "    arr2=df_item['sales_units'].values\n",
    "    arr3=df_item['yr'].values\n",
    "    arr4=df_item['week'].values\n",
    "    item_values=np.vstack((arr1,arr2,arr3,arr4))\n",
    "    item_values=item_values.transpose()\n",
    "    df_newitem=pd.DataFrame(columns=['id','sales','year','week'],data=item_values)\n",
    "    df_newitem=df_newitem.sort_values(by=['year','week'])\n",
    "    print(df_newitem.head(25))"
   ]
  },
  {
   "cell_type": "code",
   "execution_count": 14,
   "metadata": {},
   "outputs": [
    {
     "data": {
      "text/plain": [
       "array([ 7,  8, 10,  5,  1,  2,  6,  4,  3,  9])"
      ]
     },
     "execution_count": 14,
     "metadata": {},
     "output_type": "execute_result"
    }
   ],
   "source": [
    "df['store_id'].unique()"
   ]
  },
  {
   "cell_type": "code",
   "execution_count": 15,
   "metadata": {},
   "outputs": [],
   "source": [
    "df_st7=df[df['store_id']==7]"
   ]
  },
  {
   "cell_type": "code",
   "execution_count": 16,
   "metadata": {},
   "outputs": [
    {
     "name": "stdout",
     "output_type": "stream",
     "text": [
      "1 6233\n",
      "2 4663\n",
      "3 0\n",
      "4 3203\n",
      "5 6533\n",
      "6 2175\n",
      "7 68075\n",
      "8 43987\n",
      "9 0\n",
      "10 13424\n"
     ]
    },
    {
     "name": "stderr",
     "output_type": "stream",
     "text": [
      "/home/aditya/anaconda3/lib/python3.7/site-packages/ipykernel_launcher.py:5: UserWarning: Boolean Series key will be reindexed to match DataFrame index.\n",
      "  \"\"\"\n"
     ]
    }
   ],
   "source": [
    "items_store_id=[]\n",
    "for i in range(1,11):\n",
    "    items_store_id.append(df[df['store_id']==i].shape[0])\n",
    "    dftemp=df[df['store_id']==i]\n",
    "    df_data_2018=dftemp[df['yr']==2018]\n",
    "    print(i,df_data_2018.shape[0])\n",
    "    col=dftemp['yr'].unique()\n",
    "    list_week=sorted(dftemp['week'].unique())\n",
    "    \n",
    "    "
   ]
  },
  {
   "cell_type": "code",
   "execution_count": 17,
   "metadata": {},
   "outputs": [
    {
     "name": "stdout",
     "output_type": "stream",
     "text": [
      "[15398, 14089, 8174, 11473, 16986, 5741, 153725, 109048, 6723, 22495]\n"
     ]
    }
   ],
   "source": [
    "print(items_store_id)"
   ]
  },
  {
   "cell_type": "code",
   "execution_count": 18,
   "metadata": {},
   "outputs": [
    {
     "data": {
      "text/plain": [
       "(array([ 15398.,  14089.,   8174.,  11473.,  16986.,   5741., 153725.,\n",
       "        109048.,   6723.,  22495.]),\n",
       " array([ 1. ,  1.9,  2.8,  3.7,  4.6,  5.5,  6.4,  7.3,  8.2,  9.1, 10. ]),\n",
       " <a list of 10 Patch objects>)"
      ]
     },
     "execution_count": 18,
     "metadata": {},
     "output_type": "execute_result"
    },
    {
     "data": {
      "image/png": "[encoded data removed]",
      "text/plain": [
       "<Figure size 432x288 with 1 Axes>"
      ]
     },
     "metadata": {
      "needs_background": "light"
     },
     "output_type": "display_data"
    }
   ],
   "source": [
    "plt.hist(df['store_id'])"
   ]
  },
  {
   "cell_type": "code",
   "execution_count": 19,
   "metadata": {},
   "outputs": [
    {
     "name": "stdout",
     "output_type": "stream",
     "text": [
      "(7341,)\n"
     ]
    }
   ],
   "source": [
    "item=df['item_id'].unique()\n",
    "print(item.shape)"
   ]
  },
  {
   "cell_type": "code",
   "execution_count": 20,
   "metadata": {},
   "outputs": [
    {
     "data": {
      "text/plain": [
       "array(['Fashion', 'Basic', 'Seasonal Fashion', 'Footwear',\n",
       "       'Seasonal Basics', 'unknown', 'Accessories'], dtype=object)"
      ]
     },
     "execution_count": 20,
     "metadata": {},
     "output_type": "execute_result"
    }
   ],
   "source": [
    "df['product_pyramid'].unique()"
   ]
  },
  {
   "cell_type": "code",
   "execution_count": 21,
   "metadata": {},
   "outputs": [
    {
     "data": {
      "text/plain": [
       "array(['New & Feature', 'New', 'Accessories', 'Repeat', 'unknown',\n",
       "       'Relist', 'Footwear', 'Carryover'], dtype=object)"
      ]
     },
     "execution_count": 21,
     "metadata": {},
     "output_type": "execute_result"
    }
   ],
   "source": [
    "df['offer_type'].unique()"
   ]
  },
  {
   "cell_type": "code",
   "execution_count": 22,
   "metadata": {},
   "outputs": [
    {
     "data": {
      "text/plain": [
       "array(['Footwear', 'Tonal', 'Print/Pattern', 'Solid', 'Accessories',\n",
       "       'unknown'], dtype=object)"
      ]
     },
     "execution_count": 22,
     "metadata": {},
     "output_type": "execute_result"
    }
   ],
   "source": [
    "df['solid_novelty'].unique()"
   ]
  },
  {
   "cell_type": "code",
   "execution_count": 23,
   "metadata": {},
   "outputs": [
    {
     "data": {
      "text/plain": [
       "array(['Career', 'Day', 'Casual', 'Accessories', 'Weekend',\n",
       "       'Special Occasion', 'Footwear', 'Event', 'unknown'], dtype=object)"
      ]
     },
     "execution_count": 23,
     "metadata": {},
     "output_type": "execute_result"
    }
   ],
   "source": [
    "df['end_use'].unique()"
   ]
  },
  {
   "cell_type": "code",
   "execution_count": 24,
   "metadata": {},
   "outputs": [
    {
     "name": "stdout",
     "output_type": "stream",
     "text": [
      "5384\n"
     ]
    },
    {
     "data": {
      "text/plain": [
       "5384.0"
      ]
     },
     "execution_count": 24,
     "metadata": {},
     "output_type": "execute_result"
    }
   ],
   "source": [
    "print(x)\n",
    "np.mean(x)"
   ]
  },
  {
   "cell_type": "code",
   "execution_count": 25,
   "metadata": {},
   "outputs": [
    {
     "data": {
      "text/html": [
       "<div>\n",
       "<style scoped>\n",
       "    .dataframe tbody tr th:only-of-type {\n",
       "        vertical-align: middle;\n",
       "    }\n",
       "\n",
       "    .dataframe tbody tr th {\n",
       "        vertical-align: top;\n",
       "    }\n",
       "\n",
       "    .dataframe thead th {\n",
       "        text-align: right;\n",
       "    }\n",
       "</style>\n",
       "<table border=\"1\" class=\"dataframe\">\n",
       "  <thead>\n",
       "    <tr style=\"text-align: right;\">\n",
       "      <th></th>\n",
       "      <th>item_id</th>\n",
       "      <th>store_id</th>\n",
       "      <th>week</th>\n",
       "      <th>yr</th>\n",
       "      <th>sales_units</th>\n",
       "      <th>product_pyramid</th>\n",
       "      <th>end_use</th>\n",
       "      <th>solid_novelty</th>\n",
       "      <th>offer_type</th>\n",
       "      <th>color_family</th>\n",
       "    </tr>\n",
       "  </thead>\n",
       "  <tbody>\n",
       "    <tr>\n",
       "      <th>0</th>\n",
       "      <td>5384</td>\n",
       "      <td>7</td>\n",
       "      <td>31</td>\n",
       "      <td>2018</td>\n",
       "      <td>70</td>\n",
       "      <td>Fashion</td>\n",
       "      <td>Career</td>\n",
       "      <td>Footwear</td>\n",
       "      <td>New &amp; Feature</td>\n",
       "      <td>Green</td>\n",
       "    </tr>\n",
       "    <tr>\n",
       "      <th>1</th>\n",
       "      <td>5384</td>\n",
       "      <td>7</td>\n",
       "      <td>31</td>\n",
       "      <td>2019</td>\n",
       "      <td>64</td>\n",
       "      <td>Fashion</td>\n",
       "      <td>Career</td>\n",
       "      <td>Footwear</td>\n",
       "      <td>New &amp; Feature</td>\n",
       "      <td>Green</td>\n",
       "    </tr>\n",
       "    <tr>\n",
       "      <th>2</th>\n",
       "      <td>5384</td>\n",
       "      <td>7</td>\n",
       "      <td>32</td>\n",
       "      <td>2018</td>\n",
       "      <td>111</td>\n",
       "      <td>Fashion</td>\n",
       "      <td>Career</td>\n",
       "      <td>Footwear</td>\n",
       "      <td>New &amp; Feature</td>\n",
       "      <td>Green</td>\n",
       "    </tr>\n",
       "    <tr>\n",
       "      <th>3</th>\n",
       "      <td>5384</td>\n",
       "      <td>7</td>\n",
       "      <td>32</td>\n",
       "      <td>2019</td>\n",
       "      <td>76</td>\n",
       "      <td>Fashion</td>\n",
       "      <td>Career</td>\n",
       "      <td>Footwear</td>\n",
       "      <td>New &amp; Feature</td>\n",
       "      <td>Green</td>\n",
       "    </tr>\n",
       "    <tr>\n",
       "      <th>4</th>\n",
       "      <td>5384</td>\n",
       "      <td>7</td>\n",
       "      <td>33</td>\n",
       "      <td>2018</td>\n",
       "      <td>77</td>\n",
       "      <td>Fashion</td>\n",
       "      <td>Career</td>\n",
       "      <td>Footwear</td>\n",
       "      <td>New &amp; Feature</td>\n",
       "      <td>Green</td>\n",
       "    </tr>\n",
       "  </tbody>\n",
       "</table>\n",
       "</div>"
      ],
      "text/plain": [
       "   item_id  store_id  week    yr  sales_units product_pyramid end_use  \\\n",
       "0     5384         7    31  2018           70         Fashion  Career   \n",
       "1     5384         7    31  2019           64         Fashion  Career   \n",
       "2     5384         7    32  2018          111         Fashion  Career   \n",
       "3     5384         7    32  2019           76         Fashion  Career   \n",
       "4     5384         7    33  2018           77         Fashion  Career   \n",
       "\n",
       "  solid_novelty     offer_type color_family  \n",
       "0      Footwear  New & Feature        Green  \n",
       "1      Footwear  New & Feature        Green  \n",
       "2      Footwear  New & Feature        Green  \n",
       "3      Footwear  New & Feature        Green  \n",
       "4      Footwear  New & Feature        Green  "
      ]
     },
     "execution_count": 25,
     "metadata": {},
     "output_type": "execute_result"
    }
   ],
   "source": [
    "df1.head()"
   ]
  },
  {
   "cell_type": "code",
   "execution_count": 26,
   "metadata": {},
   "outputs": [
    {
     "data": {
      "text/plain": [
       "F_onewayResult(statistic=761.6382451034766, pvalue=0.0)"
      ]
     },
     "execution_count": 26,
     "metadata": {},
     "output_type": "execute_result"
    }
   ],
   "source": [
    "stats.f_oneway(df1['sales_units'][df1['offer_type']=='New & Feature'],df1['sales_units'][df1['offer_type']=='New'],df1['sales_units'][df1['offer_type']=='Accessories'],df1['sales_units'][df1['offer_type']=='Repeat'],df1['sales_units'][df1['offer_type']=='unknown'],df1['sales_units'][df1['offer_type']=='Relist'],df1['sales_units'][df1['offer_type']=='Footwear'],df1['sales_units'][df1['offer_type']=='Carryover'])"
   ]
  },
  {
   "cell_type": "code",
   "execution_count": 27,
   "metadata": {},
   "outputs": [
    {
     "data": {
      "text/plain": [
       "F_onewayResult(statistic=761.6382451034766, pvalue=0.0)"
      ]
     },
     "execution_count": 27,
     "metadata": {},
     "output_type": "execute_result"
    }
   ],
   "source": [
    "stats.f_oneway(df1['sales_units'][df1['offer_type']=='New & Feature'],df1['sales_units'][df1['offer_type']=='New'],df1['sales_units'][df1['offer_type']=='Accessories'],df1['sales_units'][df1['offer_type']=='Repeat'],df1['sales_units'][df1['offer_type']=='unknown'],df1['sales_units'][df1['offer_type']=='Relist'],df1['sales_units'][df1['offer_type']=='Footwear'],df1['sales_units'][df1['offer_type']=='Carryover'])"
   ]
  },
  {
   "cell_type": "code",
   "execution_count": 28,
   "metadata": {},
   "outputs": [
    {
     "name": "stdout",
     "output_type": "stream",
     "text": [
      "[ 70  64 111 ...   1   1   1]\n"
     ]
    }
   ],
   "source": [
    "print(df1['sales_units'][df1['offer_type']=='New & Feature'].values)\n",
    "col_color=df['color_family'].unique()\n",
    "col_novelty=df['solid_novelty'].unique()\n",
    "col_type=df['offer_type'].unique()\n",
    "col_prod=df['product_pyramid'].unique()\n",
    "col_end=df['end_use'].unique()\n",
    "col_list=[col_color,col_novelty,col_type,col_prod,col_end]\n",
    "columns=['color_family','solid_novelty','offer_type','product_pyramid','end_use']\n",
    "#col_novelty=df['color_family'].unique()\n"
   ]
  },
  {
   "cell_type": "code",
   "execution_count": 29,
   "metadata": {},
   "outputs": [
    {
     "name": "stdout",
     "output_type": "stream",
     "text": [
      "F value for color_family is 290.74702987189005\n",
      "F value for solid_novelty is 805.2204780475294\n",
      "F value for offer_type is 761.6382451034766\n",
      "F value for product_pyramid is 901.0114019427365\n",
      "F value for end_use is 547.9416220329869\n"
     ]
    }
   ],
   "source": [
    "ls=[]\n",
    "for l,i in zip(col_list,columns):\n",
    "    ls=[]\n",
    "    for x in l:\n",
    "        ls.append(df1['sales_units'][df1[i]==x])\n",
    "    print('F value for',i,'is',stats.f_oneway(*ls)[0])"
   ]
  },
  {
   "cell_type": "code",
   "execution_count": 30,
   "metadata": {},
   "outputs": [],
   "source": [
    "#These F-values are used to order the attributes in terms of importance.\n",
    "#Hence, product_pyramid affects the output of sales the most."
   ]
  }
 ],
 "metadata": {
  "kernelspec": {
   "display_name": "Python 3",
   "language": "python",
   "name": "python3"
  },
  "language_info": {
   "codemirror_mode": {
    "name": "ipython",
    "version": 3
   },
   "file_extension": ".py",
   "mimetype": "text/x-python",
   "name": "python",
   "nbconvert_exporter": "python",
   "pygments_lexer": "ipython3",
   "version": "3.7.2"
  }
 },
 "nbformat": 4,
 "nbformat_minor": 2
}
